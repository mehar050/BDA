{
 "cells": [
  {
   "cell_type": "code",
   "execution_count": 7,
   "id": "1167ddca-63eb-4ab2-add9-d308cf14a2cb",
   "metadata": {},
   "outputs": [
    {
     "name": "stdout",
     "output_type": "stream",
     "text": [
      "mehar javed\n",
      "education minister\n"
     ]
    }
   ],
   "source": [
    "class person:\n",
    "    name = \"mehar javed\"\n",
    "    age= 18\n",
    "    d_prgm=\"Business Data Analyst\"\n",
    "    institute=\"Comsats\"\n",
    "    aim=\"data analyst\"\n",
    "a=person()\n",
    "a.aim=\"education minister\"\n",
    "print(a.name)\n",
    "print(a.aim)\n",
    "\n",
    "    "
   ]
  },
  {
   "cell_type": "code",
   "execution_count": 9,
   "id": "a6c4a52c-abb6-4431-be6f-8c8e41c5fc35",
   "metadata": {},
   "outputs": [
    {
     "name": "stdout",
     "output_type": "stream",
     "text": [
      "mehar javed is a data analyst\n"
     ]
    }
   ],
   "source": [
    "class person:\n",
    "    name = \"mehar javed\"\n",
    "    age= 18\n",
    "    d_prgm=\"Business Data Analyst\"\n",
    "    institute=\"Comsats\"\n",
    "    aim=\"data analyst\"\n",
    "    def info(self):\n",
    "        print(f\"{self.name} is a {self.aim}\")\n",
    "a=person()\n",
    "a.info()"
   ]
  },
  {
   "cell_type": "code",
   "execution_count": 15,
   "id": "b4785ccb-ad77-42e6-92df-222208c63f6a",
   "metadata": {},
   "outputs": [
    {
     "name": "stdout",
     "output_type": "stream",
     "text": [
      "mehar javed is a Data Analyst\n"
     ]
    }
   ],
   "source": [
    "class person:\n",
    "    name=\"mehar javed\"\n",
    "    occupation=\"data analyst\".title()\n",
    "    def mehar(self):\n",
    "        print(f\"{self.name} is a {self.occupation}\")\n",
    "a=person()\n",
    "a.mehar()"
   ]
  },
  {
   "cell_type": "code",
   "execution_count": 23,
   "id": "279ddaf7-5a18-4065-82fd-ab869708bf82",
   "metadata": {},
   "outputs": [
    {
     "name": "stdout",
     "output_type": "stream",
     "text": [
      "Mehar Javed ,is 18 years old, she lives in Lahore\n"
     ]
    }
   ],
   "source": [
    "# 1 \n",
    "class person:\n",
    "    name=\"Mehar Javed\"\n",
    "    age=18\n",
    "    city=\"Lahore\"\n",
    "a=person()\n",
    "print(f\"{a.name} ,is {a.age} years old, she lives in {a.city}\")"
   ]
  },
  {
   "cell_type": "code",
   "execution_count": 31,
   "id": "f903d9ad-be35-4e96-93f5-587492e7a17d",
   "metadata": {},
   "outputs": [
    {
     "name": "stdout",
     "output_type": "stream",
     "text": [
      "latest\n"
     ]
    }
   ],
   "source": [
    "#2\n",
    "class car:\n",
    "    make=\"Honda Atlas\"\n",
    "    model=\"latest\"\n",
    "    year= 2024\n",
    "b=car()\n",
    "print(b.model)"
   ]
  },
  {
   "cell_type": "code",
   "execution_count": 35,
   "id": "f42cd4cc-adfb-48f5-ac4f-7b44ca305d3e",
   "metadata": {},
   "outputs": [
    {
     "name": "stdout",
     "output_type": "stream",
     "text": [
      "Honda Atlas makes latest car of 2024\n"
     ]
    }
   ],
   "source": [
    "#2\n",
    "class car:\n",
    "    make=\"Honda Atlas\"\n",
    "    model=\"latest\"\n",
    "    year= 2024\n",
    "    def attributes(self):\n",
    "        print(f\"{self.make} makes {self.model} car of {self.year}\")\n",
    "b=car()\n",
    "b.attributes()"
   ]
  },
  {
   "cell_type": "code",
   "execution_count": 41,
   "id": "93278161-9c99-4b92-b6c0-d98ce8b4689b",
   "metadata": {},
   "outputs": [
    {
     "name": "stdout",
     "output_type": "stream",
     "text": [
      "Pride And Prejudice is written byJane Austen in 1895\n"
     ]
    }
   ],
   "source": [
    "# 6 \n",
    "class book:\n",
    "    title=\"pride and prejudice\".title()\n",
    "    author=\"Jane Austen\"\n",
    "    publication_year= 1895\n",
    "    def info(self):\n",
    "        print(f\"{self.title} is written by{self.author} in {self.publication_year}\")\n",
    "c=book()\n",
    "c.info()"
   ]
  },
  {
   "cell_type": "code",
   "execution_count": 60,
   "id": "c29e4c0b-c9de-4382-b49b-df8858ff8d11",
   "metadata": {},
   "outputs": [
    {
     "name": "stdout",
     "output_type": "stream",
     "text": [
      "Mehar Javed earns90000000000000000\n",
      "M.Mustafa Javed earns1000000000000000000000000\n",
      "M.Musa Javed earns10000000000000000000000000\n"
     ]
    }
   ],
   "source": [
    "#7\n",
    "class employee:\n",
    "        person=\"Mehar Javed\"\n",
    "        salary=90000000000000000\n",
    "        def info(self):\n",
    "           print(f\"{self.person} earns{self.salary}\")\n",
    "a=employee()\n",
    "b=employee()\n",
    "c=employee()\n",
    "b.person=\"M.Mustafa Javed\"\n",
    "b.salary=1000000000000000000000000\n",
    "c.person=\"M.Musa Javed\"\n",
    "c.salary=10000000000000000000000000\n",
    "a.info()\n",
    "b.info()\n",
    "c.info()\n",
    "\n"
   ]
  },
  {
   "cell_type": "code",
   "execution_count": 82,
   "id": "3988300e-53d2-41c2-b601-1f51ebed3e3e",
   "metadata": {},
   "outputs": [
    {
     "name": "stdout",
     "output_type": "stream",
     "text": [
      "hey i am a person\n",
      "hey i am a person\n"
     ]
    }
   ],
   "source": [
    "class person:\n",
    "    def __init__(self):\n",
    "        print(\"hey i am a person\")\n",
    "       # self.name=n\n",
    "        #self.occ=o\n",
    "a=person()\n",
    "b=person()"
   ]
  },
  {
   "cell_type": "code",
   "execution_count": 76,
   "id": "a529349d-eb3c-4f2e-b64d-3c57827b4373",
   "metadata": {},
   "outputs": [
    {
     "name": "stdout",
     "output_type": "stream",
     "text": [
      "M.Musa Javed is a Cyber Security Expert\n"
     ]
    }
   ],
   "source": [
    "class person:\n",
    "    name=\"Mehar Javed\"\n",
    "    occ= \"BDA AND CSS officer\"\n",
    "    def info (self):\n",
    "          print(f\"{self.name} is a {self.occ}\")\n",
    "a=person()\n",
    "a.name=\"M.Musa Javed\"\n",
    "a.occ=\"Cyber Security Expert\"\n",
    "a.info ()\n",
    "    \n",
    "    "
   ]
  },
  {
   "cell_type": "code",
   "execution_count": 86,
   "id": "adcdb5d7-27d2-461f-b2e3-b34401ea9834",
   "metadata": {},
   "outputs": [
    {
     "name": "stdout",
     "output_type": "stream",
     "text": [
      "mehar javed  is a Business Data Analyst and a CSS officer\n",
      "M.Musa javed is a cyber security expert\n"
     ]
    }
   ],
   "source": [
    "class person:\n",
    "    def __init__(self, n, o):\n",
    "        self.name=n\n",
    "        self.occ=o\n",
    "    def info (self):\n",
    "            print(f\"{self.name} is a {self.occ}\")\n",
    "a=person(\"mehar javed \", \"Business Data Analyst and a CSS officer\")\n",
    "b=person(\"M.Musa javed\", \"cyber security expert\")\n",
    "a.info()\n",
    "b.info()"
   ]
  },
  {
   "cell_type": "code",
   "execution_count": 88,
   "id": "088079a4-770a-413c-bdb2-e7ecdc38992c",
   "metadata": {},
   "outputs": [
    {
     "name": "stdout",
     "output_type": "stream",
     "text": [
      "Advancement in computing published by Mehar Javed in 2024\n",
      "Code With Mehrun published by Mehar Javed in 2024\n"
     ]
    }
   ],
   "source": [
    "class book:\n",
    "    def __init__(self,title,author,year):\n",
    "        self.title=title\n",
    "        self.author=author\n",
    "        self.year=year\n",
    "    def attributes(self):\n",
    "        print(f\"{self.title} published by {self.author} in {self.year}\")\n",
    "a=book(\"Advancement in computing\", \"Mehar Javed\", 2024)\n",
    "b=book(\"Code With Mehrun\", \"Mehar Javed\", 2024)\n",
    "a.attributes()\n",
    "b.attributes()\n",
    "        \n",
    "        "
   ]
  },
  {
   "cell_type": "code",
   "execution_count": 110,
   "id": "73f215b7-b03e-4b41-9677-43a89ac0e133",
   "metadata": {},
   "outputs": [
    {
     "name": "stdout",
     "output_type": "stream",
     "text": [
      "the area of 7 is 56.52\n"
     ]
    }
   ],
   "source": [
    "class circle:\n",
    "    def __init__(self,radius):\n",
    "        self.radius=radius\n",
    "    def info(self):\n",
    "        self.area=3.14 * radius**2\n",
    "        self.cir=2*3.14*radius\n",
    "        print(f\"the area of {self.radius} is {self.cir}\")\n",
    "a=circle(7)\n",
    "a.info()\n",
    "         \n",
    "    "
   ]
  },
  {
   "cell_type": "code",
   "execution_count": 124,
   "id": "53607e2a-6ff6-4a1b-90fe-7eac173ce560",
   "metadata": {},
   "outputs": [
    {
     "name": "stdout",
     "output_type": "stream",
     "text": [
      "the area of triangle is 56\n",
      "the perimeter of triangle is 30\n",
      "the area of triangle is 81\n",
      "the perimeter of triangle is 36\n"
     ]
    }
   ],
   "source": [
    "class rectangle:\n",
    "    def __init__(self, l, w):\n",
    "        self.length=l\n",
    "        self.width=w\n",
    "    def info(self):\n",
    "        self.area= self.length*self.width\n",
    "        self.perimeter=2*(self.length+self.width)\n",
    "        print(f\"the area of triangle is {self.area}\")\n",
    "        print(f\"the perimeter of triangle is {self.perimeter}\")\n",
    "a=rectangle(7, 8)\n",
    "b=rectangle(9,9)\n",
    "a.info()\n",
    "b.info()\n",
    "    "
   ]
  },
  {
   "cell_type": "code",
   "execution_count": 126,
   "id": "ea93f629-08c1-44d5-8a31-f2a60a34cc5e",
   "metadata": {},
   "outputs": [
    {
     "name": "stdout",
     "output_type": "stream",
     "text": [
      "the average of student is 92.25\n",
      "the average of student is 92.75\n"
     ]
    }
   ],
   "source": [
    "class student:\n",
    "    def __init__(self,a,b,c,d):\n",
    "        self.maths=a\n",
    "        self.science=b\n",
    "        self.isl=c\n",
    "        self.programming=d\n",
    "    def average(self):\n",
    "        self.average=(self.maths + self.science + self.isl + self.programming)/4\n",
    "        print(f\"the average of student is {self.average}\")\n",
    "a=student(90, 90, 99, 90)\n",
    "b=student(88, 89, 96, 98)\n",
    "a.average()\n",
    "b.average()\n",
    "    "
   ]
  },
  {
   "cell_type": "code",
   "execution_count": 142,
   "id": "32e0db1b-655c-4c99-86e2-f234aa8d561c",
   "metadata": {},
   "outputs": [
    {
     "name": "stdout",
     "output_type": "stream",
     "text": [
      "dog makes bhaoo bhaooo kind of sound\n"
     ]
    },
    {
     "ename": "TypeError",
     "evalue": "'str' object is not callable",
     "output_type": "error",
     "traceback": [
      "\u001b[1;31m---------------------------------------------------------------------------\u001b[0m",
      "\u001b[1;31mTypeError\u001b[0m                                 Traceback (most recent call last)",
      "Cell \u001b[1;32mIn[142], line 12\u001b[0m\n\u001b[0;32m     10\u001b[0m a\u001b[38;5;241m=\u001b[39mdog(\u001b[38;5;124m'\u001b[39m\u001b[38;5;124mdog\u001b[39m\u001b[38;5;124m'\u001b[39m,\u001b[38;5;124m'\u001b[39m\u001b[38;5;124mbhaoo bhaooo\u001b[39m\u001b[38;5;124m'\u001b[39m)\n\u001b[0;32m     11\u001b[0m a\u001b[38;5;241m.\u001b[39minfo()\n\u001b[1;32m---> 12\u001b[0m a\u001b[38;5;241m.\u001b[39msound()\n",
      "\u001b[1;31mTypeError\u001b[0m: 'str' object is not callable"
     ]
    }
   ],
   "source": [
    "class animal:\n",
    "    def __init__(self, name, sound):\n",
    "        self.name=name\n",
    "        self.sound_type=sound\n",
    "    def info(self):\n",
    "        print(f\"{self.name} makes {self.sound_type} kind of sound\")\n",
    "class dog(animal):\n",
    "    def sound(self):\n",
    "        print(f\"{self.animal} produces {self.sound_ty kind of sound\")\n",
    "a=dog('dog','bhaoo bhaooo')\n",
    "a.info()\n",
    "a.sound()\n",
    "        "
   ]
  },
  {
   "cell_type": "code",
   "execution_count": null,
   "id": "df342251-57e0-4eea-8f4f-acd3987fbc17",
   "metadata": {},
   "outputs": [],
   "source": []
  },
  {
   "cell_type": "code",
   "execution_count": null,
   "id": "dfe3b946-66bc-47cd-bd8e-ee125495811f",
   "metadata": {},
   "outputs": [],
   "source": []
  }
 ],
 "metadata": {
  "kernelspec": {
   "display_name": "Python 3 (ipykernel)",
   "language": "python",
   "name": "python3"
  },
  "language_info": {
   "codemirror_mode": {
    "name": "ipython",
    "version": 3
   },
   "file_extension": ".py",
   "mimetype": "text/x-python",
   "name": "python",
   "nbconvert_exporter": "python",
   "pygments_lexer": "ipython3",
   "version": "3.12.4"
  }
 },
 "nbformat": 4,
 "nbformat_minor": 5
}
