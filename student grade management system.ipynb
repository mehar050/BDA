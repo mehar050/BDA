{
 "cells": [
  {
   "cell_type": "code",
   "execution_count": 1,
   "id": "103fec37-0cda-4433-8e4e-c85636b75677",
   "metadata": {},
   "outputs": [],
   "source": [
    "#Create a system that stores student grades and allows you to:\n",
    "\n",
    "   #1 Add student data (name, grades).\n",
    "   #2 Calculate average grades.\n",
    "   #3Determine if a student passed or failed based on a given passing grade.\n",
    "   #4Display a report of all students with their grades and pass/fail status.\n",
    "\n"
   ]
  },
  {
   "cell_type": "code",
   "execution_count": 5,
   "id": "d3cda9bb-d023-4507-aeca-b01c8313cdc2",
   "metadata": {},
   "outputs": [
    {
     "name": "stdout",
     "output_type": "stream",
     "text": [
      "Mehar Javed:1068:pass\n",
      "Muzna Liaqat:981:pass\n",
      "Reeda Kashif:1070:pass\n",
      "Sukiatin Nisa:1040:pass\n",
      "Sumaia SHAhzad:1071:pass\n",
      "Izma Arshad:1079:pass\n",
      "Shubana Baji:505:fail\n",
      "Sania Farooq:1001:pass\n",
      "Naila Ahsan:991:pass\n",
      "Mona Roi:540:fail\n",
      "the average grade of all students is: 934.6\n"
     ]
    }
   ],
   "source": [
    "student_data = {\n",
    "    \"Mehar Javed\"  : 1068,\n",
    "    \"Muzna Liaqat\" : 981,\n",
    "    \"Reeda Kashif\" : 1070,\n",
    "    \"Sukiatin Nisa\":1040,\n",
    "    \"Sumaia SHAhzad\":1071,\n",
    "    \"Izma Arshad\"  : 1079,\n",
    "    \"Shubana Baji\" : 505,\n",
    "    \"Sania Farooq\" : 1001,\n",
    "    \"Naila Ahsan\"  : 991,\n",
    "    \"Mona Roi\"     : 540\n",
    "}\n",
    "total_grade =0\n",
    "for name,data  in student_data.items():\n",
    "     if data<=550:            \n",
    "             print(f\"{name}:{data}:fail\")\n",
    "     else:\n",
    "       \n",
    "             print(f\"{name}:{data}:pass\")\n",
    "          \n",
    "     total_grade+=data\n",
    "average_grade= total_grade/ len(student_data)\n",
    "print(\"the average grade of all students is:\", average_grade)\n",
    "    "
   ]
  },
  {
   "cell_type": "code",
   "execution_count": null,
   "id": "b11c12dd-9e92-44e8-9737-cbb1d913e281",
   "metadata": {},
   "outputs": [],
   "source": []
  }
 ],
 "metadata": {
  "kernelspec": {
   "display_name": "Python 3 (ipykernel)",
   "language": "python",
   "name": "python3"
  },
  "language_info": {
   "codemirror_mode": {
    "name": "ipython",
    "version": 3
   },
   "file_extension": ".py",
   "mimetype": "text/x-python",
   "name": "python",
   "nbconvert_exporter": "python",
   "pygments_lexer": "ipython3",
   "version": "3.12.4"
  }
 },
 "nbformat": 4,
 "nbformat_minor": 5
}
