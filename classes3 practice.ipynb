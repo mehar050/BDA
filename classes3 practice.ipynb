{
 "cells": [
  {
   "cell_type": "code",
   "execution_count": 2,
   "id": "98d9e96a-864e-423f-a314-79102a9cf775",
   "metadata": {},
   "outputs": [
    {
     "name": "stdout",
     "output_type": "stream",
     "text": [
      "name :Mehar Javed\n",
      "age:18\n",
      "city:Lahore\n"
     ]
    }
   ],
   "source": [
    "class person:\n",
    "    def __init__(self,name,age,city):\n",
    "        self.name=name\n",
    "        self.age=age\n",
    "        self.city=city\n",
    "    def intro(self):\n",
    "        print(f\"name :{self.name}\")\n",
    "        print(f\"age:{self.age}\")\n",
    "        print(f\"city:{self.city}\")\n",
    "a=person('Mehar Javed',18, 'Lahore')\n",
    "a.intro()"
   ]
  },
  {
   "cell_type": "code",
   "execution_count": 5,
   "id": "4efebc5c-48f6-42fb-a03c-032f99b94ca9",
   "metadata": {},
   "outputs": [
    {
     "name": "stdout",
     "output_type": "stream",
     "text": [
      "Honda has made a Latest car of 2024 year\n"
     ]
    }
   ],
   "source": [
    "class car:\n",
    "    def __init__(self,make,model,year):\n",
    "        self.make=make\n",
    "        self.model=model\n",
    "        self.year=year\n",
    "    def info(self):\n",
    "        print(f\"{self.make} has made a {self.model} car of {self.year} year\")\n",
    "a=car('Honda','Latest',2024)\n",
    "a.info()"
   ]
  },
  {
   "cell_type": "code",
   "execution_count": 7,
   "id": "741266e0-3b7c-4e48-b88a-34ad3cdbcc18",
   "metadata": {},
   "outputs": [
    {
     "name": "stdout",
     "output_type": "stream",
     "text": [
      "78.5\n",
      "31.400000000000002\n"
     ]
    }
   ],
   "source": [
    "class circle:\n",
    "    def __init__(self,radius):\n",
    "        self.radius=radius\n",
    "    def area(self):\n",
    "        result=3.14*self.radius**2\n",
    "        print(result)\n",
    "    def circumference(self):\n",
    "        result=2*3.14*self.radius\n",
    "        print(result)\n",
    "a=circle(5)\n",
    "a.area()\n",
    "a.circumference()"
   ]
  },
  {
   "cell_type": "code",
   "execution_count": 10,
   "id": "467169d9-cf1b-43ee-b1aa-1ada0872dc6f",
   "metadata": {},
   "outputs": [
    {
     "name": "stdout",
     "output_type": "stream",
     "text": [
      "area of rectangle is 20\n",
      "perimetr of rectangle is 18\n"
     ]
    }
   ],
   "source": [
    "class rectangle:\n",
    "    def __init__(self,length,width):\n",
    "        self.length=length\n",
    "        self.width=width\n",
    "    def area(self):\n",
    "        area=self.length * self.width\n",
    "        print(f\"area of rectangle is {area}\")\n",
    "    def perimeter(self):\n",
    "        perimeter=2*(self.length+self.width)\n",
    "        print(f\"perimetr of rectangle is {perimeter}\")\n",
    "a=rectangle(4,5)\n",
    "a.area()\n",
    "a.perimeter()"
   ]
  },
  {
   "cell_type": "code",
   "execution_count": 15,
   "id": "e910a63b-bfa0-4178-93f3-e4640a6ade80",
   "metadata": {},
   "outputs": [
    {
     "name": "stdout",
     "output_type": "stream",
     "text": [
      "the average of student:98.5\n"
     ]
    }
   ],
   "source": [
    "class student:\n",
    "    def __init__(self, name, marks1,marks2, marks3, marks4, rollno):\n",
    "        self.name=name\n",
    "        self.marks1=marks1\n",
    "        self.marks2=marks2\n",
    "        self.marks3=marks3\n",
    "        self.marks4=marks4\n",
    "        self.rollno=rollno     \n",
    "    def average(self):\n",
    "        average=(self.marks1+self.marks2 +self.marks3+self.marks4)/4\n",
    "        print(f\"the average of student:{average}\")\n",
    "a=student('Mehar Javed', 98, 99, 100, 97, 50)\n",
    "a.average()\n",
    "        "
   ]
  },
  {
   "cell_type": "code",
   "execution_count": 16,
   "id": "827bfb71-fb34-4b78-8f19-43b769373a37",
   "metadata": {},
   "outputs": [
    {
     "name": "stdout",
     "output_type": "stream",
     "text": [
      "Advancement In Computing is written by Mehar Javed\n",
      "Code With Mehrun is written by Mehar Javed\n"
     ]
    }
   ],
   "source": [
    "class book:\n",
    "    def __init__(self, title, author):\n",
    "        self.title=title\n",
    "        self.author=author\n",
    "    def info(self):\n",
    "        print(f\"{self.title} is written by {self.author}\")\n",
    "a=book('Advancement In Computing', 'Mehar Javed')\n",
    "b=book('Code With Mehrun','Mehar Javed')\n",
    "a.info()\n",
    "b.info()"
   ]
  },
  {
   "cell_type": "code",
   "execution_count": 17,
   "id": "8c64ef8f-e632-4e35-a194-76089bdf95e9",
   "metadata": {},
   "outputs": [
    {
     "name": "stdout",
     "output_type": "stream",
     "text": [
      "Mehar Javed is a CSS Officer and an expert Data Analyst, she earns 99999000000000000000000000000\n"
     ]
    }
   ],
   "source": [
    "class employee:\n",
    "    def __init__(self, name, designation, salary):\n",
    "        self.name=name\n",
    "        self.designation=designation\n",
    "        self.salary=salary\n",
    "    def info(self):\n",
    "        print(f\"{self.name} is a {self.designation}, she earns {self.salary}\")\n",
    "a=employee('Mehar Javed', 'CSS Officer and an expert Data Analyst', 99999000000000000000000000000)\n",
    "a.info()"
   ]
  },
  {
   "cell_type": "code",
   "execution_count": 18,
   "id": "5c793271-8a32-4e04-9190-fe6fd28252f0",
   "metadata": {},
   "outputs": [
    {
     "name": "stdout",
     "output_type": "stream",
     "text": [
      "money is deposited\n"
     ]
    }
   ],
   "source": [
    "total=10000\n",
    "class bank:\n",
    "    def __init__(self,name,accountno,balance):\n",
    "      self.name=name\n",
    "      self.accountno=accountno\n",
    "      self.balance=balance\n",
    "    def withdraw_or_deposit(self):\n",
    "        if self.balance >total:\n",
    "            print(\"money is deposited\")\n",
    "        elif self.balance<total:\n",
    "            print(\"money is withdrawn\")\n",
    "        else:\n",
    "            print(\"money is neither deposited nor withdrawn\")\n",
    "a=bank('MEHAR jAVED', 410, 15000)\n",
    "a.withdraw_or_deposit()\n"
   ]
  },
  {
   "cell_type": "code",
   "execution_count": 19,
   "id": "3c406ac0-e712-4ae3-8ca1-e7fdb5520475",
   "metadata": {},
   "outputs": [
    {
     "name": "stdout",
     "output_type": "stream",
     "text": [
      "area is region occupied by shape\n",
      "area of rectangle: 20\n",
      "area of triangle:28.0\n",
      "area of circle:78.5\n"
     ]
    }
   ],
   "source": [
    "class shape:\n",
    "    def __init__(self):\n",
    "        pass\n",
    "    def area(self):\n",
    "        print(\"area is region occupied by shape\")\n",
    "class rectangle(shape):\n",
    "    def __init__(self, length, width):\n",
    "        self.length=length\n",
    "        self.width=width\n",
    "    def area(self):\n",
    "        area=self.length * self.width\n",
    "        print(f\"area of rectangle: {area}\")\n",
    "class triangle(shape):\n",
    "    def __init__(self, base, height):\n",
    "        self.base=base\n",
    "        self.height=height\n",
    "    def area(self):\n",
    "        area=1/2*(self.base * self.height)\n",
    "        print(f\"area of triangle:{area}\")\n",
    "class circle(shape):\n",
    "    def __init__(self,radius):\n",
    "        self.radius=radius\n",
    "    def area(self):\n",
    "        area=3.14 * self.radius**2\n",
    "        print(f\"area of circle:{area}\")\n",
    "a=shape()\n",
    "a.area()\n",
    "b=rectangle(4,5)\n",
    "b.area()\n",
    "c=triangle(7,8)\n",
    "c.area()\n",
    "d=circle(5)\n",
    "d.area()\n",
    "    \n",
    "    "
   ]
  },
  {
   "cell_type": "code",
   "execution_count": 21,
   "id": "e27ba058-a200-46c6-8c42-cc2a75dc16e0",
   "metadata": {},
   "outputs": [
    {
     "name": "stdout",
     "output_type": "stream",
     "text": [
      "dog makes bhaoo bhaoo\n",
      "cat makes meow\n",
      "cow do unhh\n"
     ]
    }
   ],
   "source": [
    "class animal:\n",
    "    def __init__(self, name,sound):\n",
    "        self.name=name\n",
    "        self.sound=sound\n",
    "    def details(self):\n",
    "        print(f\"{self.name} makes{self.sound}\")\n",
    "class dog(animal):\n",
    "    print(\"dog makes bhaoo bhaoo\")\n",
    "class cat(animal):\n",
    "    print(\"cat makes meow\")\n",
    "class cow(animal):\n",
    "    print(\"cow do unhh\")\n",
    "a=dog('dog', 'bhaoo')"
   ]
  },
  {
   "cell_type": "code",
   "execution_count": null,
   "id": "a5b329de-b916-43a4-9fa4-151aaa5d5958",
   "metadata": {},
   "outputs": [],
   "source": []
  },
  {
   "cell_type": "code",
   "execution_count": null,
   "id": "97fe1fbe-8a4f-4b26-9237-66eb578670d5",
   "metadata": {},
   "outputs": [],
   "source": []
  },
  {
   "cell_type": "code",
   "execution_count": null,
   "id": "353281d0-07a7-4f4e-8043-8748ee692270",
   "metadata": {},
   "outputs": [],
   "source": []
  },
  {
   "cell_type": "code",
   "execution_count": null,
   "id": "c5de7df6-d6e6-4201-94f2-870e4bc8e5ae",
   "metadata": {},
   "outputs": [],
   "source": []
  },
  {
   "cell_type": "code",
   "execution_count": null,
   "id": "68469fb6-589b-45cb-a916-e7bb75007e18",
   "metadata": {},
   "outputs": [],
   "source": []
  },
  {
   "cell_type": "code",
   "execution_count": null,
   "id": "0cf12f93-b214-43fd-a454-e9c11b3394a8",
   "metadata": {},
   "outputs": [],
   "source": []
  },
  {
   "cell_type": "code",
   "execution_count": null,
   "id": "360748f3-3dca-492e-85d6-0d2e8dbccfbe",
   "metadata": {},
   "outputs": [],
   "source": []
  },
  {
   "cell_type": "code",
   "execution_count": null,
   "id": "4eac4a31-b1cf-4c65-8f5a-ddaf78feb6de",
   "metadata": {},
   "outputs": [],
   "source": []
  },
  {
   "cell_type": "code",
   "execution_count": null,
   "id": "6958b9d5-b604-4ac3-9790-78a67ec0846b",
   "metadata": {},
   "outputs": [],
   "source": []
  },
  {
   "cell_type": "code",
   "execution_count": null,
   "id": "07fa9b72-7c9f-408c-8fcc-740f4728fa29",
   "metadata": {},
   "outputs": [],
   "source": []
  },
  {
   "cell_type": "code",
   "execution_count": null,
   "id": "a76472e8-a94e-4a90-8def-fbbfe1002a59",
   "metadata": {},
   "outputs": [],
   "source": []
  },
  {
   "cell_type": "code",
   "execution_count": null,
   "id": "0879e905-dac2-412c-827c-ad71a965cf40",
   "metadata": {},
   "outputs": [],
   "source": []
  },
  {
   "cell_type": "code",
   "execution_count": null,
   "id": "6a130a41-fa5b-4958-83d5-7bdfd13cb8e9",
   "metadata": {},
   "outputs": [],
   "source": []
  },
  {
   "cell_type": "code",
   "execution_count": null,
   "id": "5b4e7517-59d8-4031-acee-b7fff45b2801",
   "metadata": {},
   "outputs": [],
   "source": []
  },
  {
   "cell_type": "code",
   "execution_count": null,
   "id": "c89dbdaa-3dee-4efc-a7cb-cb30ea032515",
   "metadata": {},
   "outputs": [],
   "source": []
  },
  {
   "cell_type": "code",
   "execution_count": null,
   "id": "82af99a7-1dc7-4ef5-a20c-01432789338f",
   "metadata": {},
   "outputs": [],
   "source": []
  },
  {
   "cell_type": "code",
   "execution_count": null,
   "id": "06eab9c9-8b45-431e-9465-8ef56d6e27d2",
   "metadata": {},
   "outputs": [],
   "source": []
  },
  {
   "cell_type": "code",
   "execution_count": null,
   "id": "f81ebd6f-d424-485a-8941-153ff9e41987",
   "metadata": {},
   "outputs": [],
   "source": []
  },
  {
   "cell_type": "code",
   "execution_count": null,
   "id": "63e6ead6-350c-4c42-af31-7b4a41422605",
   "metadata": {},
   "outputs": [],
   "source": []
  },
  {
   "cell_type": "code",
   "execution_count": null,
   "id": "0b77aa7b-243e-46de-adaa-a56a35f40ae2",
   "metadata": {},
   "outputs": [],
   "source": []
  },
  {
   "cell_type": "code",
   "execution_count": null,
   "id": "c0fb4c3e-716e-428f-96f2-986dbce99cce",
   "metadata": {},
   "outputs": [],
   "source": []
  },
  {
   "cell_type": "code",
   "execution_count": null,
   "id": "d8f60ca6-447f-43bf-98b9-d4bf871d2ed9",
   "metadata": {},
   "outputs": [],
   "source": []
  },
  {
   "cell_type": "code",
   "execution_count": null,
   "id": "728b5358-a0cf-4585-a901-df1105170ae7",
   "metadata": {},
   "outputs": [],
   "source": []
  },
  {
   "cell_type": "code",
   "execution_count": null,
   "id": "632303ac-4d5c-4d84-a9d9-108bd45d7e4b",
   "metadata": {},
   "outputs": [],
   "source": []
  },
  {
   "cell_type": "code",
   "execution_count": null,
   "id": "cff64911-6625-4fec-972f-0335e3a5468e",
   "metadata": {},
   "outputs": [],
   "source": []
  },
  {
   "cell_type": "code",
   "execution_count": null,
   "id": "f9297ae0-4cb6-4181-ac11-e49a3ba5879a",
   "metadata": {},
   "outputs": [],
   "source": []
  },
  {
   "cell_type": "code",
   "execution_count": null,
   "id": "96a58cb8-62ba-4bb8-a866-a3d57ae0fd1c",
   "metadata": {},
   "outputs": [],
   "source": []
  },
  {
   "cell_type": "code",
   "execution_count": null,
   "id": "9412e522-1905-4b09-9244-f269ec7d94de",
   "metadata": {},
   "outputs": [],
   "source": []
  },
  {
   "cell_type": "code",
   "execution_count": null,
   "id": "d4367526-7205-4fef-8fb4-77cb9b06281f",
   "metadata": {},
   "outputs": [],
   "source": []
  },
  {
   "cell_type": "code",
   "execution_count": null,
   "id": "70148365-67d9-4c74-a998-c994b574f5b6",
   "metadata": {},
   "outputs": [],
   "source": []
  },
  {
   "cell_type": "code",
   "execution_count": null,
   "id": "9e6f777f-c5b3-4828-86bf-d544c0b6fca3",
   "metadata": {},
   "outputs": [],
   "source": []
  },
  {
   "cell_type": "code",
   "execution_count": null,
   "id": "3ca827bb-9fb3-4d88-b7ac-d272ec0d7825",
   "metadata": {},
   "outputs": [],
   "source": []
  },
  {
   "cell_type": "code",
   "execution_count": null,
   "id": "21be921b-003d-4559-a839-e93e03e630a1",
   "metadata": {},
   "outputs": [],
   "source": []
  },
  {
   "cell_type": "code",
   "execution_count": null,
   "id": "26de2a8f-247f-4a98-a7b5-bfcabd3f155d",
   "metadata": {},
   "outputs": [],
   "source": []
  },
  {
   "cell_type": "code",
   "execution_count": null,
   "id": "06306001-84a9-409b-9644-83f791cc4752",
   "metadata": {},
   "outputs": [],
   "source": []
  },
  {
   "cell_type": "code",
   "execution_count": null,
   "id": "9732e94c-e6a2-4e11-a1f8-3a085d9b1d35",
   "metadata": {},
   "outputs": [],
   "source": []
  },
  {
   "cell_type": "code",
   "execution_count": null,
   "id": "5bda1644-d2ac-43ea-b5f5-6d94b31d63d1",
   "metadata": {},
   "outputs": [],
   "source": []
  },
  {
   "cell_type": "code",
   "execution_count": null,
   "id": "07314143-f520-43be-afcd-18af078c230b",
   "metadata": {},
   "outputs": [],
   "source": []
  },
  {
   "cell_type": "code",
   "execution_count": null,
   "id": "6463ae3f-0305-43d3-82b1-6e5586941ee6",
   "metadata": {},
   "outputs": [],
   "source": []
  }
 ],
 "metadata": {
  "kernelspec": {
   "display_name": "Python 3 (ipykernel)",
   "language": "python",
   "name": "python3"
  },
  "language_info": {
   "codemirror_mode": {
    "name": "ipython",
    "version": 3
   },
   "file_extension": ".py",
   "mimetype": "text/x-python",
   "name": "python",
   "nbconvert_exporter": "python",
   "pygments_lexer": "ipython3",
   "version": "3.12.4"
  }
 },
 "nbformat": 4,
 "nbformat_minor": 5
}
