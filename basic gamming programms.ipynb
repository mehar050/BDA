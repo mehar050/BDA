{
 "cells": [
  {
   "cell_type": "code",
   "execution_count": 5,
   "id": "0f6b8f2c-01ba-4420-a70b-1be2d6efa778",
   "metadata": {},
   "outputs": [
    {
     "name": "stdin",
     "output_type": "stream",
     "text": [
      "enter the guess :  44\n"
     ]
    },
    {
     "name": "stdout",
     "output_type": "stream",
     "text": [
      "incorrect\n"
     ]
    }
   ],
   "source": [
    "# number guessing game\n",
    "number = 45\n",
    "guess =int(input(\"enter the guess : \"))\n",
    "if number==guess:\n",
    "    print(\"correct\")\n",
    "else:\n",
    "    print(\"incorrect\")"
   ]
  },
  {
   "cell_type": "code",
   "execution_count": 9,
   "id": "fbd1a0ba-1535-455d-94aa-2d7c4e84a88d",
   "metadata": {},
   "outputs": [
    {
     "name": "stdin",
     "output_type": "stream",
     "text": [
      "enter a naumber :  5\n"
     ]
    },
    {
     "name": "stdout",
     "output_type": "stream",
     "text": [
      "out\n"
     ]
    }
   ],
   "source": [
    "#try to making a game\n",
    "number =5\n",
    "guess =int(input(\"enter a naumber : \"))\n",
    "if number==guess:\n",
    "    print(\"out\")\n",
    "else:\n",
    "    print(\"your score is:\",guess)\n",
    "    \n",
    "    \n"
   ]
  },
  {
   "cell_type": "code",
   "execution_count": null,
   "id": "7f99321d-0b63-45bc-9ace-bfdf5e99402f",
   "metadata": {},
   "outputs": [],
   "source": [
    "#rock , paper, scissor game\n",
    "first =\"rock\"\n",
    "second = \"paper\"\n",
    "third = \"scissor\"\n",
    "while True:\n",
    "    output=input(\"enter a valid character \")\n",
    "guess1 = input(\"enter a character \")\n",
    "\n",
    "\n"
   ]
  }
 ],
 "metadata": {
  "kernelspec": {
   "display_name": "Python 3 (ipykernel)",
   "language": "python",
   "name": "python3"
  },
  "language_info": {
   "codemirror_mode": {
    "name": "ipython",
    "version": 3
   },
   "file_extension": ".py",
   "mimetype": "text/x-python",
   "name": "python",
   "nbconvert_exporter": "python",
   "pygments_lexer": "ipython3",
   "version": "3.12.4"
  }
 },
 "nbformat": 4,
 "nbformat_minor": 5
}
