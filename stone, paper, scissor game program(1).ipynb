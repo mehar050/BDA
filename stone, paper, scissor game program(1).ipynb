{
 "cells": [
  {
   "cell_type": "code",
   "execution_count": 3,
   "id": "aa906635-6952-44f5-8832-4ad132448ee1",
   "metadata": {},
   "outputs": [
    {
     "name": "stdin",
     "output_type": "stream",
     "text": [
      "enter a valid guess paper\n"
     ]
    },
    {
     "name": "stdout",
     "output_type": "stream",
     "text": [
      "wrong answer\n"
     ]
    }
   ],
   "source": [
    "list = ['stone', 'paper', 'scissor']\n",
    "guess=input (\"enter a valid guess\")\n",
    "import random\n",
    "random_list = random.choice(list)\n",
    "if random_list==guess:\n",
    "    print(\"correct answer\")\n",
    "else:\n",
    "    print(\"wrong answer"
   ]
  },
  {
   "cell_type": "code",
   "execution_count": 23,
   "id": "c0319dc9-e11c-4886-8117-de3e76ee2143",
   "metadata": {},
   "outputs": [
    {
     "name": "stdout",
     "output_type": "stream",
     "text": [
      "total attempts are 5\n"
     ]
    },
    {
     "name": "stdin",
     "output_type": "stream",
     "text": [
      "enter a valid guess paper\n"
     ]
    },
    {
     "name": "stdout",
     "output_type": "stream",
     "text": [
      "your guess is :  paper\n",
      "compurt eord s :  scissor\n",
      "your total score is :  0\n",
      "computer total score is : 5\n",
      "you lose the match\n"
     ]
    }
   ],
   "source": [
    "attempts = 5\n",
    "print(\"total attempts are 5\")\n",
    "user_total = 0\n",
    "comp_total = 0\n",
    "list =['stone', 'paper', 'scissor']\n",
    "guess = input(\"enter a valid guess\")\n",
    "import random\n",
    "random_word = random.choice(list)\n",
    "for attempts in range(1, attempts+1):\n",
    "    if guess == random_word:\n",
    "        user_total+=1\n",
    "    else:\n",
    "        comp_total+=1\n",
    "print(\"your guess is : \",guess)\n",
    "print(\"compurt eord s : \",random_word)\n",
    "print(\"your total score is : \",user_total)\n",
    "print(\"computer total score is :\",comp_total)\n",
    "         \n",
    "if comp_total >= user_total:\n",
    "    print(\"you lose the match\")\n",
    "else:\n",
    "    print(\"you won the match\")\n",
    "\n",
    "        \n",
    "    \n",
    "        \n",
    "        \n",
    "\n"
   ]
  },
  {
   "cell_type": "code",
   "execution_count": null,
   "id": "2dd917b4-eaad-498b-a302-47c145ebba39",
   "metadata": {},
   "outputs": [],
   "source": []
  }
 ],
 "metadata": {
  "kernelspec": {
   "display_name": "Python 3 (ipykernel)",
   "language": "python",
   "name": "python3"
  },
  "language_info": {
   "codemirror_mode": {
    "name": "ipython",
    "version": 3
   },
   "file_extension": ".py",
   "mimetype": "text/x-python",
   "name": "python",
   "nbconvert_exporter": "python",
   "pygments_lexer": "ipython3",
   "version": "3.12.4"
  }
 },
 "nbformat": 4,
 "nbformat_minor": 5
}
