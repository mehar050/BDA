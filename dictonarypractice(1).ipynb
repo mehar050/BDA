{
 "cells": [
  {
   "cell_type": "code",
   "execution_count": 1,
   "id": "b316ab55-bdb5-4827-8189-e8612e0546e6",
   "metadata": {},
   "outputs": [
    {
     "name": "stdout",
     "output_type": "stream",
     "text": [
      "{'title': 'The Great Gatsby', 'author': 'F.Scott Fitzgerald', 'year': 1925, 'genre': 'friction'}\n",
      "{'title': 'The Great Gatsby', 'author': 'F.Scott Fitzgerald', 'year': 2025, 'genre': 'friction'}\n",
      "F.Scott Fitzgerald\n"
     ]
    }
   ],
   "source": [
    "book={\"title\": \"The Great Gatsby\", \"author\":\"F.Scott Fitzgerald\", \"year\":1925}\n",
    "book['genre']=\"friction\"\n",
    "print(book)\n",
    "book['year']=2025\n",
    "print(book)\n",
    "print(book['author'])"
   ]
  },
  {
   "cell_type": "code",
   "execution_count": 3,
   "id": "79522506-68bf-4171-907a-6d30ca047e31",
   "metadata": {},
   "outputs": [
    {
     "name": "stdout",
     "output_type": "stream",
     "text": [
      "{'name': 'Inception', 'director': 'Christopher Nolan', 'release_year': 2010}\n",
      "{'name': 'Inception', 'director': 'Christopher Nolan'}\n",
      "{}\n"
     ]
    }
   ],
   "source": [
    "movie={\n",
    "    \"name\":\"Inception\",\n",
    "    \"director\":\"Christopher Nolan\",\n",
    "    \"release_year\":2010,\n",
    "    \"budget\":160000000\n",
    "}\n",
    "# -----1\n",
    "movie.pop('budget')\n",
    "print(movie)\n",
    "#-----2\n",
    "del movie[\"release_year\"]\n",
    "print(movie)\n",
    "#----3\n",
    "movie.clear()\n",
    "print(movie)"
   ]
  },
  {
   "cell_type": "code",
   "execution_count": 5,
   "id": "67d0aace-b725-4a29-ba07-3e2766d3ff2a",
   "metadata": {},
   "outputs": [
    {
     "name": "stdout",
     "output_type": "stream",
     "text": [
      "{'book_1': {'title': '1984', 'author': 'George Orwell', 'copies': 10}, 'book_2': {'title': 'To Kill a Mockingbird', 'author': 'Harpes Lee', 'copies': 5}, 'book_3': {'title': 'Pride and Prejudice', 'author': 'Jane Austen', 'copies': 7}}\n",
      "{'book_1': {'title': '1984', 'author': 'George Orwell', 'copies': 15}, 'book_2': {'title': 'To Kill a Mockingbird', 'author': 'Harpes Lee', 'copies': 5}, 'book_3': {'title': 'Pride and Prejudice', 'author': 'Jane Austen', 'copies': 7}}\n",
      "Harpes Lee\n"
     ]
    }
   ],
   "source": [
    "books={\n",
    "    \"book_1\":{\"title\" :\"1984\", \"author\":\"George Orwell\", \"copies\":10},\n",
    "    \"book_2\":{\"title\":\"To Kill a Mockingbird\", \"author\":\"Harpes Lee\",\"copies\":5}\n",
    "}\n",
    "#----1\n",
    "books['book_3']={\"title\":\"Pride and Prejudice\", \"author\":\"Jane Austen\",\"copies\":7}\n",
    "print(books)\n",
    "#----2\n",
    "books['book_1']['copies']=15\n",
    "print(books)\n",
    "#----3\n",
    "print(books['book_2']['author'])"
   ]
  },
  {
   "cell_type": "code",
   "execution_count": 7,
   "id": "162bb51f-5975-4b0b-89a7-380482c33a1a",
   "metadata": {},
   "outputs": [
    {
     "name": "stdout",
     "output_type": "stream",
     "text": [
      "apple:50 units\n",
      "banana:30 units\n",
      "cherry:20 units\n"
     ]
    }
   ],
   "source": [
    "inventry={\n",
    "    \"apple\":50,\n",
    "    \"banana\":30,\n",
    "    \"cherry\":20\n",
    "}\n",
    "for key,values in inventry.items():\n",
    "    print(f\"{key}:{values} units\")"
   ]
  },
  {
   "cell_type": "code",
   "execution_count": 9,
   "id": "39ef29a5-7904-4335-a270-80c01506c499",
   "metadata": {},
   "outputs": [
    {
     "name": "stdout",
     "output_type": "stream",
     "text": [
      "{1: 1, 2: 4, 3: 9, 4: 16, 5: 25, 6: 36, 7: 49, 8: 64, 9: 81, 10: 100}\n"
     ]
    }
   ],
   "source": [
    "n=10\n",
    "sq_no={number:number**2 for number in range(1, n+1)}\n",
    "print(sq_no)"
   ]
  },
  {
   "cell_type": "code",
   "execution_count": null,
   "id": "011558d4-a3fa-4641-8727-c9bf01c19555",
   "metadata": {},
   "outputs": [],
   "source": []
  }
 ],
 "metadata": {
  "kernelspec": {
   "display_name": "Python 3 (ipykernel)",
   "language": "python",
   "name": "python3"
  },
  "language_info": {
   "codemirror_mode": {
    "name": "ipython",
    "version": 3
   },
   "file_extension": ".py",
   "mimetype": "text/x-python",
   "name": "python",
   "nbconvert_exporter": "python",
   "pygments_lexer": "ipython3",
   "version": "3.12.4"
  }
 },
 "nbformat": 4,
 "nbformat_minor": 5
}
