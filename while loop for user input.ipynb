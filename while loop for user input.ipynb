{
 "cells": [
  {
   "cell_type": "code",
   "execution_count": 3,
   "id": "2477dbd9-1f70-48b7-8e28-0b0e3ec63792",
   "metadata": {},
   "outputs": [
    {
     "name": "stdin",
     "output_type": "stream",
     "text": [
      "enter your password 6789542\n",
      "enter your password 123456789\n",
      "enter your password mghdsaf\n",
      "enter your password comsats university\n",
      "enter your password password\n",
      "enter your password python 123\n"
     ]
    },
    {
     "name": "stdout",
     "output_type": "stream",
     "text": [
      "access granted\n"
     ]
    }
   ],
   "source": [
    "password = \"\"\n",
    "while password != \"python 123\":\n",
    "    password = input(\"enter your password\")\n",
    "    if password == \"python 123\":\n",
    "        print(\"access granted\")"
   ]
  },
  {
   "cell_type": "code",
   "execution_count": null,
   "id": "1b8cf37c-3556-4713-8aca-f6c811e921d9",
   "metadata": {},
   "outputs": [],
   "source": []
  }
 ],
 "metadata": {
  "kernelspec": {
   "display_name": "Python 3 (ipykernel)",
   "language": "python",
   "name": "python3"
  },
  "language_info": {
   "codemirror_mode": {
    "name": "ipython",
    "version": 3
   },
   "file_extension": ".py",
   "mimetype": "text/x-python",
   "name": "python",
   "nbconvert_exporter": "python",
   "pygments_lexer": "ipython3",
   "version": "3.12.4"
  }
 },
 "nbformat": 4,
 "nbformat_minor": 5
}
