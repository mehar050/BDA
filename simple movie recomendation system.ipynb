{
 "cells": [
  {
   "cell_type": "code",
   "execution_count": null,
   "id": "30a99f26-1c84-4ddd-8afb-99d22ac9d59f",
   "metadata": {},
   "outputs": [],
   "source": [
    "#Objectives:\n",
    "\n",
    "   # 1 Create a list of movies with details such as title, genre, and rating.\n",
    "    #2 Collect user preferences for movie genres.\n",
    "    #3 Recommend movies based on user preferences.\n",
    "    #4 Allow the user to rate the movies they’ve watched, and suggest similar movies based on their ratings.\n",
    "    #5 Display movie recommendations and ratings in a structured format."
   ]
  },
  {
   "cell_type": "code",
   "execution_count": null,
   "id": "7e0fc724-70e5-475b-84b0-58a6fd27d1c2",
   "metadata": {},
   "outputs": [],
   "source": []
  }
 ],
 "metadata": {
  "kernelspec": {
   "display_name": "Python 3 (ipykernel)",
   "language": "python",
   "name": "python3"
  },
  "language_info": {
   "codemirror_mode": {
    "name": "ipython",
    "version": 3
   },
   "file_extension": ".py",
   "mimetype": "text/x-python",
   "name": "python",
   "nbconvert_exporter": "python",
   "pygments_lexer": "ipython3",
   "version": "3.12.4"
  }
 },
 "nbformat": 4,
 "nbformat_minor": 5
}
