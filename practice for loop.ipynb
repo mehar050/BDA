{
 "cells": [
  {
   "cell_type": "code",
   "execution_count": 1,
   "id": "7273995f-950b-4822-b64c-b7b8a2ef6788",
   "metadata": {},
   "outputs": [
    {
     "name": "stdout",
     "output_type": "stream",
     "text": [
      "krish\n",
      "zidd\n",
      "aik hai nigar\n",
      "anabella\n",
      "conjuring\n"
     ]
    }
   ],
   "source": [
    "movies =[\"krish\", \"zidd\", \"aik hai nigar\", \"anabella\", \"conjuring\"]\n",
    "for a in movies:\n",
    "    print(a)"
   ]
  },
  {
   "cell_type": "code",
   "execution_count": 10,
   "id": "c65e2f71-32e6-408f-b026-1f0a96d74671",
   "metadata": {},
   "outputs": [
    {
     "name": "stdout",
     "output_type": "stream",
     "text": [
      "0 krish\n",
      "1 zidd\n",
      "2 aik hai nigar\n",
      "3 anabella\n",
      "4 conjuring\n"
     ]
    }
   ],
   "source": [
    "for a in movies:\n",
    "    print(movies.index(a), (a))"
   ]
  },
  {
   "cell_type": "code",
   "execution_count": 11,
   "id": "235b2e67-0912-4112-aee2-a075d3f1431b",
   "metadata": {},
   "outputs": [
    {
     "name": "stdout",
     "output_type": "stream",
     "text": [
      "m\n",
      "e\n",
      "h\n",
      "a\n",
      "r\n",
      " \n",
      "j\n",
      "a\n",
      "v\n",
      "e\n",
      "d\n"
     ]
    }
   ],
   "source": [
    "name = \"mehar javed\"\n",
    "for i in name:\n",
    "    print(i)\n",
    "    "
   ]
  },
  {
   "cell_type": "code",
   "execution_count": 41,
   "id": "cb317c58-307d-4b94-9fc4-09eeb08e2b40",
   "metadata": {},
   "outputs": [
    {
     "name": "stdout",
     "output_type": "stream",
     "text": [
      "e\n",
      "a\n",
      "a\n",
      "e\n"
     ]
    }
   ],
   "source": [
    "\n",
    "for char in name:\n",
    "    if char == \"a\" or char==\"e\" or char==\"i\" or char==\"o\" or char==\"u\":\n",
    "               \n",
    "        print(char)\n",
    "    \n",
    "        \n",
    "        \n",
    "        \n",
    "    \n",
    "        "
   ]
  },
  {
   "cell_type": "code",
   "execution_count": 42,
   "id": "68e380b8-ec67-41e6-9df3-34f77f643ddb",
   "metadata": {},
   "outputs": [
    {
     "name": "stdout",
     "output_type": "stream",
     "text": [
      "mehar got85\n",
      "maria got80\n",
      "hafsa got79\n"
     ]
    }
   ],
   "source": [
    "name_grade= {\"mehar\" :85, \"maria\":80, \"hafsa\": 79}\n",
    "for name ,grade in name_grade.items():\n",
    "    print(f\"{name} got{grade}\")"
   ]
  },
  {
   "cell_type": "code",
   "execution_count": 47,
   "id": "7d3c6c72-608e-4f34-a9c5-000f45842174",
   "metadata": {},
   "outputs": [
    {
     "name": "stdout",
     "output_type": "stream",
     "text": [
      "mehar\n"
     ]
    }
   ],
   "source": [
    "print(max(name_grade))"
   ]
  },
  {
   "cell_type": "code",
   "execution_count": 62,
   "id": "aff60c4b-8cb5-4f57-945a-374b8a2b83d9",
   "metadata": {},
   "outputs": [
    {
     "name": "stdout",
     "output_type": "stream",
     "text": [
      "6\n",
      "21\n"
     ]
    }
   ],
   "source": [
    "total =0\n",
    "two_d=[[1, 2, 3],\n",
    "       [4, 5, 6]]\n",
    "for a in two_d:\n",
    "    for b in a:            \n",
    "        total= total+b\n",
    "    print(total)"
   ]
  },
  {
   "cell_type": "code",
   "execution_count": 76,
   "id": "29c9ce2d-a119-48cd-b70a-d58cfd2a3cbd",
   "metadata": {},
   "outputs": [
    {
     "name": "stdout",
     "output_type": "stream",
     "text": [
      "1.0\n",
      "1.4142135623730951\n",
      "1.7320508075688772\n",
      "2.0\n",
      "2.23606797749979\n",
      "2.449489742783178\n",
      "2.6457513110645907\n",
      "2.8284271247461903\n",
      "3.0\n",
      "3.1622776601683795\n"
     ]
    }
   ],
   "source": [
    "import math\n",
    "n = 10\n",
    "for n in range(1, n+1):    \n",
    "    print(math.sqrt(n))\n",
    "    \n",
    "    "
   ]
  },
  {
   "cell_type": "code",
   "execution_count": 78,
   "id": "2915bf16-4bf9-4b9a-94c4-2b5ccbbf0450",
   "metadata": {},
   "outputs": [
    {
     "name": "stdout",
     "output_type": "stream",
     "text": [
      "1\n",
      "4\n",
      "9\n",
      "16\n",
      "25\n",
      "36\n",
      "49\n",
      "64\n",
      "81\n",
      "100\n"
     ]
    }
   ],
   "source": [
    "import math\n",
    "n = 10\n",
    "for n in range(1, n+1):    \n",
    "    print(n**2)\n",
    "    "
   ]
  },
  {
   "cell_type": "code",
   "execution_count": null,
   "id": "5078c589-a989-453d-b128-dc6dfde53c47",
   "metadata": {},
   "outputs": [],
   "source": []
  },
  {
   "cell_type": "code",
   "execution_count": null,
   "id": "cde191fe-fcdf-4814-a116-72d5a3d11d6e",
   "metadata": {},
   "outputs": [],
   "source": []
  },
  {
   "cell_type": "code",
   "execution_count": null,
   "id": "712d55dd-b324-452d-8131-fe9c7b62f933",
   "metadata": {},
   "outputs": [],
   "source": []
  },
  {
   "cell_type": "code",
   "execution_count": null,
   "id": "3804d5cb-099e-4556-8c07-318bc30533be",
   "metadata": {},
   "outputs": [],
   "source": []
  },
  {
   "cell_type": "code",
   "execution_count": null,
   "id": "2e43b444-39ee-4ff6-90a8-1eb4d1380d5b",
   "metadata": {},
   "outputs": [],
   "source": []
  },
  {
   "cell_type": "code",
   "execution_count": null,
   "id": "5902018f-c897-48a2-9cf0-5744c0dfd3fa",
   "metadata": {},
   "outputs": [],
   "source": []
  },
  {
   "cell_type": "code",
   "execution_count": null,
   "id": "06fb8b06-128e-4336-bc2b-f575c2a8ba5d",
   "metadata": {},
   "outputs": [],
   "source": []
  },
  {
   "cell_type": "code",
   "execution_count": null,
   "id": "95ead798-32ee-453f-9f90-4a7dcf4a37d4",
   "metadata": {},
   "outputs": [],
   "source": []
  },
  {
   "cell_type": "code",
   "execution_count": null,
   "id": "d651a052-c5ac-4ae7-bc78-eb1d1e6f1e93",
   "metadata": {},
   "outputs": [],
   "source": []
  },
  {
   "cell_type": "code",
   "execution_count": null,
   "id": "c88027bf-f94d-47bc-bb00-8ec4f0112b01",
   "metadata": {},
   "outputs": [],
   "source": []
  },
  {
   "cell_type": "code",
   "execution_count": null,
   "id": "072b4869-12fd-459e-b63e-f8794755d294",
   "metadata": {},
   "outputs": [],
   "source": []
  },
  {
   "cell_type": "code",
   "execution_count": null,
   "id": "a9c874b7-9042-4218-8d59-14bba7d97acb",
   "metadata": {},
   "outputs": [],
   "source": []
  },
  {
   "cell_type": "code",
   "execution_count": null,
   "id": "bc86b336-8611-4bfb-8cde-749bcd0a1891",
   "metadata": {},
   "outputs": [],
   "source": []
  },
  {
   "cell_type": "code",
   "execution_count": null,
   "id": "1e4b411a-5da7-45a5-9199-c5758275abe8",
   "metadata": {},
   "outputs": [],
   "source": []
  },
  {
   "cell_type": "code",
   "execution_count": null,
   "id": "feff125f-2102-4fef-b32c-aae2f1e71295",
   "metadata": {},
   "outputs": [],
   "source": []
  },
  {
   "cell_type": "code",
   "execution_count": null,
   "id": "56a9088b-4d8f-4176-9089-8616a401bc28",
   "metadata": {},
   "outputs": [],
   "source": []
  },
  {
   "cell_type": "code",
   "execution_count": null,
   "id": "0eabd50e-f496-49d8-841e-972bf470a154",
   "metadata": {},
   "outputs": [],
   "source": []
  },
  {
   "cell_type": "code",
   "execution_count": null,
   "id": "3f2c6c10-236d-4a92-8b50-2fccd6635b72",
   "metadata": {},
   "outputs": [],
   "source": []
  },
  {
   "cell_type": "code",
   "execution_count": null,
   "id": "d87980e9-d5b4-4402-9bbe-114ca337c0b4",
   "metadata": {},
   "outputs": [],
   "source": []
  }
 ],
 "metadata": {
  "kernelspec": {
   "display_name": "Python 3 (ipykernel)",
   "language": "python",
   "name": "python3"
  },
  "language_info": {
   "codemirror_mode": {
    "name": "ipython",
    "version": 3
   },
   "file_extension": ".py",
   "mimetype": "text/x-python",
   "name": "python",
   "nbconvert_exporter": "python",
   "pygments_lexer": "ipython3",
   "version": "3.12.4"
  }
 },
 "nbformat": 4,
 "nbformat_minor": 5
}
