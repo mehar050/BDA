{
 "cells": [
  {
   "cell_type": "code",
   "execution_count": 1,
   "id": "2e1b76e9-12df-417c-9da5-ab47a8f9a9c1",
   "metadata": {},
   "outputs": [
    {
     "name": "stdout",
     "output_type": "stream",
     "text": [
      "hi!mehar\n",
      "hi!musa\n",
      "hi!mustafa\n"
     ]
    }
   ],
   "source": [
    "def names(list):\n",
    "    for name in list:\n",
    "        print(f\"hi!{name}\")\n",
    "list=['mehar', 'musa', 'mustafa']\n",
    "names(list)"
   ]
  },
  {
   "cell_type": "code",
   "execution_count": 24,
   "id": "21f2d658-730f-4d8e-99e5-7cc436dd32f7",
   "metadata": {},
   "outputs": [
    {
     "name": "stdout",
     "output_type": "stream",
     "text": [
      "curreent design:yellow\n",
      "curreent design:green\n",
      "curreent design:blue\n"
     ]
    }
   ],
   "source": [
    "def print_models(unprinted, completeddesigns):\n",
    " while unprinted:\n",
    "     currentdesign =unprinted.pop()\n",
    "     print(f\"curreent design:{currentdesign}\")\n",
    "    \n",
    "    \n",
    "unprinted=['blue', 'green', 'yellow']\n",
    "completeddsigns=[]\n",
    "print_models(unprinted, completeddsigns)"
   ]
  },
  {
   "cell_type": "code",
   "execution_count": 36,
   "id": "996e7de7-73d0-4693-9f05-84a2601e591c",
   "metadata": {},
   "outputs": [
    {
     "name": "stdout",
     "output_type": "stream",
     "text": [
      "my favourite foods are:chocolate cake\n",
      "my favourite foods are:trifil\n",
      "my favourite foods are:kheer\n",
      "my favourite foods are:ice-cream\n",
      "my favourite foods are:rasmalai\n",
      "my favourite foods are:biryani\n",
      "my favourite foods are:chinese\n",
      "my favourite foods are:desi\n"
     ]
    }
   ],
   "source": [
    "def food_items(favourite):\n",
    "    for food in favourites:\n",
    "        print(f\"my favourite foods are:{food}\")\n",
    "favourite=['chocolate cake', 'trifil', 'kheer', 'ice-cream', 'rasmalai', 'biryani', 'chinese', 'desi']\n",
    "food_items(favourite)"
   ]
  },
  {
   "cell_type": "code",
   "execution_count": 40,
   "id": "1a79e600-35c5-4cab-9eb4-c98d2a1facca",
   "metadata": {},
   "outputs": [
    {
     "name": "stdout",
     "output_type": "stream",
     "text": [
      "grapes\n",
      "aleechi\n",
      "mango\n",
      "apple\n"
     ]
    }
   ],
   "source": [
    "def food(fav):\n",
    "    while fav:\n",
    "        current=fav.pop()\n",
    "        print(current)\n",
    "fav=['apple', 'mango', 'aleechi', 'grapes']\n",
    "food(fav)"
   ]
  },
  {
   "cell_type": "code",
   "execution_count": 76,
   "id": "2bc1f778-636d-4766-8566-971029553efa",
   "metadata": {},
   "outputs": [
    {
     "name": "stdout",
     "output_type": "stream",
     "text": [
      "('mushroms', 'extra cheese', 'pepricconi')\n",
      "('cheese',)\n"
     ]
    }
   ],
   "source": [
    "def make_pizza(*toppings):\n",
    "    print(toppings)\n",
    "make_pizza('mushroms', 'extra cheese', 'pepricconi')\n",
    "make_pizza('cheese')"
   ]
  },
  {
   "cell_type": "code",
   "execution_count": 58,
   "id": "d410f5d5-5120-43a8-8a30-e9360dc8f600",
   "metadata": {},
   "outputs": [
    {
     "name": "stdout",
     "output_type": "stream",
     "text": [
      "make pizza with following topics:mushroom\n",
      "make pizza with following topics:cheese\n"
     ]
    }
   ],
   "source": [
    "def make_pizza(*toppings):\n",
    "    for topping in toppings:\n",
    "        print(f\"make pizza with following topics:{topping}\")\n",
    "make_pizza('mushroom')\n",
    "make_pizza('cheese')"
   ]
  },
  {
   "cell_type": "code",
   "execution_count": 64,
   "id": "89e483fd-e65b-4abc-9665-f461b4d70df3",
   "metadata": {},
   "outputs": [
    {
     "name": "stdout",
     "output_type": "stream",
     "text": [
      "mak pizza with followng topics:mushroom\n",
      "mak pizza with followng topics:cheese\n",
      "mak pizza with followng topics:peprico\n",
      "mak pizza with followng topics:cheese\n",
      "mak pizza with followng topics:chilly flakes\n"
     ]
    }
   ],
   "source": [
    "def make_pizza(*toppings):\n",
    "    for topping in toppings:\n",
    "        print(f\"mak pizza with followng topics:{topping}\")\n",
    "make_pizza('mushroom', 'cheese', 'peprico')\n",
    "make_pizza('cheese')\n",
    "make_pizza('chilly flakes')"
   ]
  },
  {
   "cell_type": "code",
   "execution_count": 74,
   "id": "67e2a499-b9c9-4dfb-8523-0216fd28a9fb",
   "metadata": {},
   "outputs": [
    {
     "name": "stdout",
     "output_type": "stream",
     "text": [
      "making a mushroom inch pizza with following topics:\n",
      "-cheese\n",
      "making a cheese inch pizza with following topics:\n"
     ]
    }
   ],
   "source": [
    "def make_pizza(size, *toppings):\n",
    "    print(f\"making a {size} inch pizza with following topics:\")\n",
    "    for topping in toppings:\n",
    "        print(f\"-{topping}\")\n",
    "make_pizza('mushroom', 'cheese')\n",
    "make_pizza('cheese')"
   ]
  },
  {
   "cell_type": "code",
   "execution_count": 82,
   "id": "bd315478-9b27-485f-b00c-fe77ed0c306e",
   "metadata": {},
   "outputs": [
    {
     "name": "stdout",
     "output_type": "stream",
     "text": [
      "{'location': 'lahore', 'field': 'data analyst', 'first name': 'mehar', 'last name': 'javed'}\n"
     ]
    }
   ],
   "source": [
    "def build_profile(first, last, **user_info):\n",
    "    user_info['first name']=first\n",
    "    user_info['last name']=last\n",
    "    return user_info\n",
    "user_profile=build_profile('mehar', 'javed', \n",
    "                           location='lahore',\n",
    "                           field='data analyst')\n",
    "print(user_profile)"
   ]
  },
  {
   "cell_type": "code",
   "execution_count": 88,
   "id": "d945f842-204a-4298-a74f-3f5ce69d2e37",
   "metadata": {},
   "outputs": [
    {
     "data": {
      "text/plain": [
       "{'location': 'lahore',\n",
       " 'field': 'data analyst',\n",
       " 'first name': 'mehar',\n",
       " 'last name': 'javed'}"
      ]
     },
     "execution_count": 88,
     "metadata": {},
     "output_type": "execute_result"
    }
   ],
   "source": [
    "def build_profile(first, last, **user_info):\n",
    "    user_info['first name']=first\n",
    "    user_info['last name']=last\n",
    "    return user_info\n",
    "build_profile('mehar', 'javed', \n",
    "                           location='lahore',\n",
    "                           field='data analyst')\n",
    "    "
   ]
  },
  {
   "cell_type": "code",
   "execution_count": 110,
   "id": "38ca8690-d032-4c38-b324-ee4b35057ac7",
   "metadata": {},
   "outputs": [
    {
     "data": {
      "text/plain": [
       "{'name': 'mehar javed', 'age': 18}"
      ]
     },
     "execution_count": 110,
     "metadata": {},
     "output_type": "execute_result"
    }
   ],
   "source": [
    "def build_profile(name, age,**info):\n",
    "    info['name']=name\n",
    "    info['age']=age\n",
    "    return info\n",
    "build_profile('mehar javed',18)\n",
    "    "
   ]
  },
  {
   "cell_type": "code",
   "execution_count": 134,
   "id": "c961a034-5b8b-4069-b43e-464d693dc4eb",
   "metadata": {},
   "outputs": [
    {
     "name": "stdin",
     "output_type": "stream",
     "text": [
      "enter numbers separated by spaces:  7 8 9 6\n"
     ]
    },
    {
     "ename": "TypeError",
     "evalue": "'list' object is not callable",
     "output_type": "error",
     "traceback": [
      "\u001b[1;31m---------------------------------------------------------------------------\u001b[0m",
      "\u001b[1;31mTypeError\u001b[0m                                 Traceback (most recent call last)",
      "Cell \u001b[1;32mIn[134], line 3\u001b[0m\n\u001b[0;32m      1\u001b[0m numbers\u001b[38;5;241m=\u001b[39m\u001b[38;5;28minput\u001b[39m(\u001b[38;5;124m\"\u001b[39m\u001b[38;5;124menter numbers separated by spaces: \u001b[39m\u001b[38;5;124m\"\u001b[39m)\u001b[38;5;241m.\u001b[39msplit()\n\u001b[0;32m      2\u001b[0m numbers\u001b[38;5;241m=\u001b[39m[\u001b[38;5;28mint\u001b[39m(num) \u001b[38;5;28;01mfor\u001b[39;00m num \u001b[38;5;129;01min\u001b[39;00m numbers]\n\u001b[1;32m----> 3\u001b[0m ma\u001b[38;5;241m=\u001b[39mnumbers(\u001b[38;5;28mmax\u001b[39m)\n\u001b[0;32m      4\u001b[0m numbers\u001b[38;5;241m.\u001b[39mremove(ma)\n\u001b[0;32m      5\u001b[0m \u001b[38;5;28mprint\u001b[39m(\u001b[38;5;28mmax\u001b[39m(numbers))\n",
      "\u001b[1;31mTypeError\u001b[0m: 'list' object is not callable"
     ]
    }
   ],
   "source": [
    "numbers=input(\"enter numbers separated by spaces: \").split()\n",
    "numbers=[int(num) for num in numbers]\n",
    "ma=numbers(max)\n",
    "numbers.remove(ma)\n",
    "print(max(numbers))"
   ]
  },
  {
   "cell_type": "code",
   "execution_count": null,
   "id": "505bac81-ac23-40dd-bf63-855a829ab3c6",
   "metadata": {},
   "outputs": [],
   "source": []
  }
 ],
 "metadata": {
  "kernelspec": {
   "display_name": "Python 3 (ipykernel)",
   "language": "python",
   "name": "python3"
  },
  "language_info": {
   "codemirror_mode": {
    "name": "ipython",
    "version": 3
   },
   "file_extension": ".py",
   "mimetype": "text/x-python",
   "name": "python",
   "nbconvert_exporter": "python",
   "pygments_lexer": "ipython3",
   "version": "3.12.4"
  }
 },
 "nbformat": 4,
 "nbformat_minor": 5
}
