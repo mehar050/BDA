{
 "cells": [
  {
   "cell_type": "code",
   "execution_count": 1,
   "id": "dfbd79a2-91ea-4c3b-a5a3-984408ad8acf",
   "metadata": {},
   "outputs": [],
   "source": [
    "myData={\n",
    "    \"fa24-bbd-050\":{\"name\":\"mehar javed\", \"maths\":100, \"islamit\":100},\n",
    "    \"fa24-bbd-104\":{\"name\":\"noor-ul-lain\", \"maths\":88, \"islamit\":92}\n",
    "}\n"
   ]
  },
  {
   "cell_type": "code",
   "execution_count": 35,
   "id": "506eeaf3-a994-494a-855b-4413b55a20d5",
   "metadata": {},
   "outputs": [
    {
     "name": "stdin",
     "output_type": "stream",
     "text": [
      "enter name here:  mehar javed\n"
     ]
    },
    {
     "name": "stdout",
     "output_type": "stream",
     "text": [
      "found in list\n"
     ]
    }
   ],
   "source": [
    "user=input(\"enter name here: \")\n",
    "for key,values in myData.items():\n",
    "    if values['name']==user:\n",
    "        print(\"found in list\")\n",
    "        break\n",
    "else:\n",
    "    print(\"not in list\")"
   ]
  },
  {
   "cell_type": "code",
   "execution_count": 43,
   "id": "77310520-3a09-4130-b294-100470e471f7",
   "metadata": {},
   "outputs": [
    {
     "name": "stdout",
     "output_type": "stream",
     "text": [
      "144.0\n"
     ]
    }
   ],
   "source": [
    "average =myData['fa24-bbd-050']['maths'] + myData['fa24-bbd-104']['maths']/len(myData)\n",
    "print(average)"
   ]
  },
  {
   "cell_type": "code",
   "execution_count": 49,
   "id": "3be8ba30-b903-4c56-b218-f889c9bf885d",
   "metadata": {},
   "outputs": [
    {
     "name": "stdout",
     "output_type": "stream",
     "text": [
      "mehar javed\n"
     ]
    }
   ],
   "source": [
    "for key,values in myData.items():\n",
    "    if values['maths']>=90:\n",
    "        print(values['name'])"
   ]
  },
  {
   "cell_type": "code",
   "execution_count": 53,
   "id": "b9f12fdf-d037-4532-9cb6-58dbb8416420",
   "metadata": {},
   "outputs": [],
   "source": [
    "myData['fa24-bbd-050']['programming']=95\n",
    "myData['fa24-bbd-104']['programming']=91"
   ]
  },
  {
   "cell_type": "code",
   "execution_count": 57,
   "id": "1fc4f2b7-e68e-4cf1-87ad-a161ab6c837b",
   "metadata": {},
   "outputs": [
    {
     "name": "stdout",
     "output_type": "stream",
     "text": [
      "{'fa24-bbd-050': {'name': 'mehar javed', 'maths': 100, 'islamit': 100, 'programming': 95}, 'fa24-bbd-104': {'name': 'noor-ul-lain', 'maths': 88, 'islamit': 92, 'programming': 91}}\n"
     ]
    }
   ],
   "source": [
    "print(myData)"
   ]
  },
  {
   "cell_type": "code",
   "execution_count": 69,
   "id": "3fc722c4-cf9a-47b7-97b0-4ee534b6c040",
   "metadata": {},
   "outputs": [
    {
     "name": "stdout",
     "output_type": "stream",
     "text": [
      "{'name': 'mehar javed', 'maths': 100, 'islamit': 100, 'programming': 95}\n",
      "{'name': 'noor-ul-lain', 'maths': 88, 'islamit': 92, 'programming': 91}\n",
      "{'name': 'eman fatima', 'maths': 88, 'islamit': 78, 'programming': 78}\n"
     ]
    }
   ],
   "source": [
    "for key,values in myData.items():\n",
    "    print(values)"
   ]
  },
  {
   "cell_type": "code",
   "execution_count": 67,
   "id": "0d6ad0b2-bb0b-4d0d-83ba-8917d88939ab",
   "metadata": {},
   "outputs": [],
   "source": [
    "myData['fa24-bbd-024']={\"name\":\"eman fatima\", \"maths\":88, \"islamit\":78, \"programming\":78}"
   ]
  },
  {
   "cell_type": "code",
   "execution_count": 83,
   "id": "e050a49c-0ae7-4b0b-9734-414f8fa0bfab",
   "metadata": {},
   "outputs": [
    {
     "name": "stdout",
     "output_type": "stream",
     "text": [
      "100\n",
      "88\n",
      "88\n"
     ]
    }
   ],
   "source": [
    "for key,values in myData.items():\n",
    "    print(values['maths'])\n",
    "    "
   ]
  },
  {
   "cell_type": "code",
   "execution_count": 87,
   "id": "087390e4-05c2-4238-9c6d-5962a4cd24f6",
   "metadata": {},
   "outputs": [
    {
     "name": "stdout",
     "output_type": "stream",
     "text": [
      "('fa24-bbd-050', {'name': 'mehar javed', 'maths': 100, 'islamit': 100, 'programming': 95})\n"
     ]
    }
   ],
   "source": [
    "highestMathsMarks=max(myData.items(), key=lambda item:item[1][\"maths\"])\n",
    "print(highestMathsMarks)"
   ]
  },
  {
   "cell_type": "code",
   "execution_count": 89,
   "id": "c9aceab4-a984-4b4f-9565-57c08739dc14",
   "metadata": {},
   "outputs": [
    {
     "name": "stdout",
     "output_type": "stream",
     "text": [
      "student with highest marks:mehar javed\n"
     ]
    }
   ],
   "source": [
    "print(f\"student with highest marks:{highestMathsMarks[1]['name']}\")"
   ]
  },
  {
   "cell_type": "code",
   "execution_count": 93,
   "id": "9bc805af-ac50-4975-8777-97b55c773bcd",
   "metadata": {},
   "outputs": [
    {
     "name": "stdout",
     "output_type": "stream",
     "text": [
      "the highest marks are:100\n"
     ]
    }
   ],
   "source": [
    "print(f\"the highest marks are:{highestMathsMarks[1]['maths']}\")"
   ]
  },
  {
   "cell_type": "code",
   "execution_count": 97,
   "id": "bc7d2e67-37ba-4df8-9729-452e95440583",
   "metadata": {},
   "outputs": [
    {
     "name": "stdout",
     "output_type": "stream",
     "text": [
      "std having highest marks in islamit is:mehar javed\n"
     ]
    }
   ],
   "source": [
    "highestIsl=max(myData.items(), key=lambda item:item[1]['islamit'])\n",
    "print(f\"std having highest marks in islamit is:{highestIsl[1]['name']}\")"
   ]
  },
  {
   "cell_type": "code",
   "execution_count": 105,
   "id": "9739261c-c2df-40af-bc0a-6bf74b2561ff",
   "metadata": {},
   "outputs": [
    {
     "name": "stdout",
     "output_type": "stream",
     "text": [
      "highest marks in programming:mehar javed\n"
     ]
    }
   ],
   "source": [
    "highest_inPgm=max(myData.items(), key=lambda item:item[1]['programming'])\n",
    "print(f\"highest marks in programming:{highest_inPgm[1]['name']}\")"
   ]
  },
  {
   "cell_type": "code",
   "execution_count": 113,
   "id": "57f7030f-8538-406a-a954-8ec88f46c5de",
   "metadata": {},
   "outputs": [
    {
     "name": "stdout",
     "output_type": "stream",
     "text": [
      "[('fa24-bbd-104', {'name': 'noor-ul-lain', 'maths': 88, 'islamit': 92, 'programming': 91}), ('fa24-bbd-024', {'name': 'eman fatima', 'maths': 88, 'islamit': 78, 'programming': 78}), ('fa24-bbd-050', {'name': 'mehar javed', 'maths': 100, 'islamit': 100, 'programming': 95})]\n"
     ]
    }
   ],
   "source": [
    "sorted_form=sorted(myData.items(), key=lambda item:item[1]['maths'])\n",
    "print(sorted_form)"
   ]
  },
  {
   "cell_type": "code",
   "execution_count": 117,
   "id": "c64ffbb1-e913-45b3-88f4-ac70fe6ed52a",
   "metadata": {},
   "outputs": [
    {
     "name": "stdout",
     "output_type": "stream",
     "text": [
      "fa24-bbd-104:{'name': 'noor-ul-lain', 'maths': 88, 'islamit': 92, 'programming': 91}\n",
      "fa24-bbd-024:{'name': 'eman fatima', 'maths': 88, 'islamit': 78, 'programming': 78}\n",
      "fa24-bbd-050:{'name': 'mehar javed', 'maths': 100, 'islamit': 100, 'programming': 95}\n"
     ]
    }
   ],
   "source": [
    "for students in sorted_form:\n",
    "    print(f\"{students[0]}:{students[1]}\")"
   ]
  },
  {
   "cell_type": "code",
   "execution_count": 121,
   "id": "877e5aea-05ea-4fc2-87d8-5d153717f98b",
   "metadata": {},
   "outputs": [
    {
     "name": "stdout",
     "output_type": "stream",
     "text": [
      "{'a': 4, 'b': 5, 'c': 6, 'd': 7}\n"
     ]
    }
   ],
   "source": [
    "m={'a':4, 'b':5}\n",
    "n={'c':6, 'd':7}\n",
    "merge = m | n\n",
    "print(merge)"
   ]
  },
  {
   "cell_type": "raw",
   "id": "b74fa1a8-fd18-46b7-b3ee-56e1d70bdd05",
   "metadata": {},
   "source": []
  }
 ],
 "metadata": {
  "kernelspec": {
   "display_name": "Python 3 (ipykernel)",
   "language": "python",
   "name": "python3"
  },
  "language_info": {
   "codemirror_mode": {
    "name": "ipython",
    "version": 3
   },
   "file_extension": ".py",
   "mimetype": "text/x-python",
   "name": "python",
   "nbconvert_exporter": "python",
   "pygments_lexer": "ipython3",
   "version": "3.12.4"
  }
 },
 "nbformat": 4,
 "nbformat_minor": 5
}
