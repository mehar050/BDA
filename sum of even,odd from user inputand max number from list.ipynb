{
 "cells": [
  {
   "cell_type": "code",
   "execution_count": 26,
   "id": "f425200b-f36d-43fb-a724-8708d2ba040e",
   "metadata": {},
   "outputs": [
    {
     "name": "stdout",
     "output_type": "stream",
     "text": [
      "the greatest number is :  10\n"
     ]
    }
   ],
   "source": [
    "my_list = [9, 6, 7, 3, 10]\n",
    "max_no = my_list[0]\n",
    "for i in my_list:\n",
    "    if i> max_no:\n",
    "        max_no = i\n",
    "print(\"the greatest number is : \", max_no) "
   ]
  },
  {
   "cell_type": "code",
   "execution_count": 24,
   "id": "96fa38d9-12ce-470e-864a-ed5dfc327c95",
   "metadata": {},
   "outputs": [
    {
     "name": "stdout",
     "output_type": "stream",
     "text": [
      "the greatest number is : 100\n"
     ]
    }
   ],
   "source": [
    "numbers = (2, 3, 4, 6, 7 , 89, 100)\n",
    "max = numbers[0]\n",
    "for i in numbers:\n",
    "    if i > max:\n",
    "        max = i\n",
    "print(\"the greatest number is :\", max)\n"
   ]
  },
  {
   "cell_type": "code",
   "execution_count": 30,
   "id": "2256c7f7-9ad3-41af-80f1-20f1a2e5973a",
   "metadata": {},
   "outputs": [
    {
     "name": "stdout",
     "output_type": "stream",
     "text": [
      "the greatest number is:  145789\n"
     ]
    }
   ],
   "source": [
    "list = (3458, 56778, 6789, 6788, 7899, 8800, 8990, 145789, 96544, 6678, 67899, 987, 66778, 44567, 56678)\n",
    "max = list[0]\n",
    "for i in list:\n",
    "    if i> max:\n",
    "        max = i\n",
    "print(\"the greatest number is: \", max)\n",
    "        "
   ]
  },
  {
   "cell_type": "code",
   "execution_count": 38,
   "id": "7bab3281-6dd0-4510-8875-9cbb8a5bc9ed",
   "metadata": {},
   "outputs": [
    {
     "name": "stdout",
     "output_type": "stream",
     "text": [
      "1\n",
      "2\n",
      "fizz\n",
      "3\n",
      "4\n",
      "buzz\n",
      "5\n",
      "fizz\n",
      "6\n",
      "7\n",
      "8\n",
      "fizz\n",
      "9\n",
      "buzz\n",
      "10\n",
      "11\n",
      "fizz\n",
      "12\n",
      "13\n",
      "14\n",
      "fizz\n",
      "buzz\n",
      "fizzbuzz\n",
      "16\n",
      "17\n",
      "fizz\n",
      "18\n",
      "19\n",
      "buzz\n",
      "20\n",
      "fizz\n",
      "21\n",
      "22\n",
      "23\n",
      "fizz\n",
      "24\n",
      "buzz\n",
      "25\n",
      "26\n",
      "fizz\n",
      "27\n",
      "28\n",
      "29\n",
      "fizz\n",
      "buzz\n",
      "fizzbuzz\n",
      "31\n",
      "32\n",
      "fizz\n",
      "33\n",
      "34\n",
      "buzz\n",
      "35\n",
      "fizz\n",
      "36\n",
      "37\n",
      "38\n",
      "fizz\n",
      "39\n",
      "buzz\n",
      "40\n",
      "41\n",
      "fizz\n",
      "42\n",
      "43\n",
      "44\n",
      "fizz\n",
      "buzz\n",
      "fizzbuzz\n",
      "46\n",
      "47\n",
      "fizz\n",
      "48\n",
      "49\n",
      "buzz\n",
      "50\n"
     ]
    }
   ],
   "source": [
    "number = 50\n",
    "for i in range (1, number +1):\n",
    "    if i %3==0:\n",
    "        print(\"fizz\")\n",
    "    if i%5==0:\n",
    "        print(\"buzz\")\n",
    "    if i%3==0 and i%5==0:\n",
    "        print(\"fizzbuzz\")\n",
    "    else:\n",
    "        print(i)\n",
    "        i = i + 1\n",
    "    \n",
    "        "
   ]
  },
  {
   "cell_type": "code",
   "execution_count": 40,
   "id": "1f170fb1-9059-4dab-9121-ada10188831e",
   "metadata": {},
   "outputs": [
    {
     "name": "stdin",
     "output_type": "stream",
     "text": [
      "enter a number 8999\n"
     ]
    }
   ],
   "source": [
    "number = input(\"enter a number\")"
   ]
  },
  {
   "cell_type": "code",
   "execution_count": null,
   "id": "65bbd2fa-43e4-4afd-96c6-ada151a930e4",
   "metadata": {},
   "outputs": [],
   "source": [
    "number =int(input(\"enter number : \"))\n",
    "even = 0\n",
    "odd = 0\n",
    "for digit in str(number):\n",
    "    digit= int(digit)\n",
    "    if digit%2==0:\n",
    "        even = even + digit\n",
    "    if digit%2!=0:\n",
    "        odd = odd + digit\n",
    "print(\"the sum of even is:\", even)\n",
    "print(\"the sum of odd is: \", odd)\n",
    "        \n",
    "\n"
   ]
  },
  {
   "cell_type": "code",
   "execution_count": null,
   "id": "9b2b6c7b-4d16-43c9-b95a-be5bc0ee508b",
   "metadata": {},
   "outputs": [],
   "source": []
  }
 ],
 "metadata": {
  "kernelspec": {
   "display_name": "Python 3 (ipykernel)",
   "language": "python",
   "name": "python3"
  },
  "language_info": {
   "codemirror_mode": {
    "name": "ipython",
    "version": 3
   },
   "file_extension": ".py",
   "mimetype": "text/x-python",
   "name": "python",
   "nbconvert_exporter": "python",
   "pygments_lexer": "ipython3",
   "version": "3.12.4"
  }
 },
 "nbformat": 4,
 "nbformat_minor": 5
}
