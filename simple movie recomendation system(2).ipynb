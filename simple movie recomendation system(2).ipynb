{
 "cells": [
  {
   "cell_type": "code",
   "execution_count": null,
   "id": "30a99f26-1c84-4ddd-8afb-99d22ac9d59f",
   "metadata": {},
   "outputs": [],
   "source": [
    "#Objectives:\n",
    "\n",
    "   # 1 Create a list of movies with details such as title, genre, and rating.\n",
    "    #2 Collect user preferences for movie genres.\n",
    "    #3 Recommend movies based on user preferences.\n",
    "    #4 Allow the user to rate the movies they’ve watched, and suggest similar movies based on their ratings.\n",
    "    #5 Display movie recommendations and ratings in a structured format."
   ]
  },
  {
   "cell_type": "code",
   "execution_count": 3,
   "id": "7e0fc724-70e5-475b-84b0-58a6fd27d1c2",
   "metadata": {},
   "outputs": [
    {
     "name": "stdin",
     "output_type": "stream",
     "text": [
      "enter the movie genre separated by spaces:  horror\n"
     ]
    },
    {
     "name": "stdout",
     "output_type": "stream",
     "text": [
      "/nMovies matching your preferred genres:/n\n",
      "Title: Anabella, Genre: Horror, Rating: 9\n",
      "Title: Conjuring, Genre: Horror, Rating: 9\n",
      "Title: Fireflies, Genre: Horror, Rating: 8\n"
     ]
    },
    {
     "name": "stdin",
     "output_type": "stream",
     "text": [
      "enter between 1 and 10 9\n"
     ]
    },
    {
     "name": "stdout",
     "output_type": "stream",
     "text": [
      "recommended movies on your rating are: \n",
      "Title:Dangal, Genre:Action, Rating:9\n",
      "Title:Anabella, Genre:Horror, Rating:9\n",
      "Title:Conjuring, Genre:Horror, Rating:9\n"
     ]
    }
   ],
   "source": [
    "movie_data=[\n",
    "   {\"title\":\"Dangal\",    \"genre\":\"Action\",        \"rating\": 9},\n",
    "   {\"title\":\"Anabella\",  \"genre\": \"Horror\",       \"rating\":9},\n",
    "   {\"title\": \"Zidd\"  ,   \"genre\": \"Action\",       \"rating\" :7},\n",
    "   {\"title\":\"Dhamaal\",   \"genre\": \"Comedy\",       \"rating\" :8},\n",
    "   {\"title\":\"Conjuring\", \"genre\": \"Horror\",       \"rating\" :9},\n",
    "   {\"title\":\"Golmal\",    \"genre\": \"Comedy\",       \"rating\":8},\n",
    "   {\"title\":\"12th fail\", \"genre\": \"Motivational\", \"rating\"  :10},\n",
    "   {\"title\":\"Rough book\",\"genre\": \"Motivational\", \"rating\":7},\n",
    "   {\"title\":\"I am Kalam\",\"genre\": \"Motivational\", \"rating\"  :7},\n",
    "   {\"title\":\"Kharish\",   \"genre\": \"Action\",       \"rating\"  :7},\n",
    "   {\"title\":\"Fireflies\", \"genre\": \"Horror\",       \"rating\"  :8}\n",
    "]\n",
    "genre_input=input(\"enter the movie genre separated by spaces: \").split()\n",
    "print(\"/nMovies matching your preferred genres:/n\")\n",
    "for movie in movie_data:\n",
    "     if movie[\"genre\"].lower() in [genre.lower() for genre in genre_input]:  # Case-insensitive comparison\n",
    "        print(f\"Title: {movie['title']}, Genre: {movie['genre']}, Rating: {movie['rating']}\")\n",
    "rating_user= input(\"enter between 1 and 10\").split()\n",
    "rating_user=[int (rating) for rating in rating_user]\n",
    "print(\"recommended movies on your rating are: \")\n",
    "for rate in movie_data:\n",
    "    if rate[\"rating\"] in [rating for rating in rating_user]:\n",
    "        print(f\"Title:{rate['title']}, Genre:{rate['genre']}, Rating:{rate['rating']}\")\n",
    "\n",
    "    "
   ]
  },
  {
   "cell_type": "code",
   "execution_count": null,
   "id": "da13b19a-df95-4391-a10e-25b92922ed6a",
   "metadata": {},
   "outputs": [],
   "source": []
  }
 ],
 "metadata": {
  "kernelspec": {
   "display_name": "Python 3 (ipykernel)",
   "language": "python",
   "name": "python3"
  },
  "language_info": {
   "codemirror_mode": {
    "name": "ipython",
    "version": 3
   },
   "file_extension": ".py",
   "mimetype": "text/x-python",
   "name": "python",
   "nbconvert_exporter": "python",
   "pygments_lexer": "ipython3",
   "version": "3.12.4"
  }
 },
 "nbformat": 4,
 "nbformat_minor": 5
}
