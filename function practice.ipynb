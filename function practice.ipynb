{
 "cells": [
  {
   "cell_type": "code",
   "execution_count": 1,
   "id": "0a5ec521-3f02-4291-afe2-9e8ded62e0d5",
   "metadata": {},
   "outputs": [
    {
     "name": "stdout",
     "output_type": "stream",
     "text": [
      "hello\n"
     ]
    }
   ],
   "source": [
    "def greet_user():\n",
    "    \"\"\"print some information here\"\"\"\n",
    "    print(\"hello\")\n",
    "greet_user()"
   ]
  },
  {
   "cell_type": "code",
   "execution_count": 5,
   "id": "d01252b8-788c-4f30-9350-be9e8d4fa234",
   "metadata": {},
   "outputs": [
    {
     "name": "stdout",
     "output_type": "stream",
     "text": [
      "hello, Mehar!\n"
     ]
    }
   ],
   "source": [
    "def greet_user(username):\n",
    "    print(f\"hello, {username.title()}!\")\n",
    "greet_user('Mehar')"
   ]
  },
  {
   "cell_type": "code",
   "execution_count": 9,
   "id": "94bf7a51-9582-4194-951b-c1f67c027371",
   "metadata": {},
   "outputs": [
    {
     "name": "stdout",
     "output_type": "stream",
     "text": [
      "hi i am ill i am suffering frm flue, and slight cough so i am ill\n",
      "listen mehar, dont eat rubbish food\n"
     ]
    }
   ],
   "source": [
    "def greet_user(username):\n",
    "    print(\"hi i am ill i am suffering frm flue, and slight cough so i am ill\")\n",
    "    print(f\"listen {username}, dont eat rubbish food\")\n",
    "greet_user('mehar')\n"
   ]
  },
  {
   "cell_type": "code",
   "execution_count": 13,
   "id": "62e75799-af84-4183-9039-c8ff666ba693",
   "metadata": {},
   "outputs": [
    {
     "name": "stdout",
     "output_type": "stream",
     "text": [
      "my pet is a parrot\n",
      " its name is mithu\n"
     ]
    }
   ],
   "source": [
    "def decribe_pet(type, name):\n",
    "    print(f\"my pet is a {type}\")\n",
    "    print(f\" its name is {name}\")\n",
    "decribe_pet('parrot', 'mithu')"
   ]
  },
  {
   "cell_type": "code",
   "execution_count": 17,
   "id": "384c801e-0219-49d3-aba3-8ef0bf0091c7",
   "metadata": {},
   "outputs": [
    {
     "name": "stdout",
     "output_type": "stream",
     "text": [
      "my pet is a parrot\n",
      "his name is mia mithu\n"
     ]
    }
   ],
   "source": [
    "def pet (type, name):\n",
    "    print(f\"my pet is a {type}\")\n",
    "    print(f\"his name is {name}\")\n",
    "pet (type='parrot', name='mia mithu')"
   ]
  },
  {
   "cell_type": "code",
   "execution_count": 29,
   "id": "fbebb8f4-17f2-46c2-ba00-f6242f160f18",
   "metadata": {},
   "outputs": [
    {
     "data": {
      "text/plain": [
       "'Mehar Javed'"
      ]
     },
     "execution_count": 29,
     "metadata": {},
     "output_type": "execute_result"
    }
   ],
   "source": [
    "def formatted_name(firstname, lastname):\n",
    "    fullname=(f\"{firstname} {lastname}\")\n",
    "    return fullname.title()\n",
    "    \n",
    "formatted_name('mehar', 'javed')\n",
    "\n",
    "    "
   ]
  },
  {
   "cell_type": "code",
   "execution_count": 39,
   "id": "b699ada9-17ee-43dc-bc4a-f5bb19d0f1a3",
   "metadata": {},
   "outputs": [
    {
     "data": {
      "text/plain": [
       "'Muhtarma Mehar Javed'"
      ]
     },
     "execution_count": 39,
     "metadata": {},
     "output_type": "execute_result"
    }
   ],
   "source": [
    "def full_name(first, middle, last):\n",
    "    full=(f\"{first} {middle} {last}\")\n",
    "    return full.title()\n",
    "full_name('muhtarma', 'mehar', 'javed')\n",
    "    "
   ]
  },
  {
   "cell_type": "code",
   "execution_count": 41,
   "id": "1a071932-6ec0-45ab-b7f1-0f1c1a76d8ab",
   "metadata": {},
   "outputs": [
    {
     "name": "stdout",
     "output_type": "stream",
     "text": [
      "{'first': 'mehar', 'javed': 'javed'}\n"
     ]
    }
   ],
   "source": [
    "def build_person(first , last):\n",
    "    person={'first':'mehar', last:'javed'}\n",
    "    return person\n",
    "person=build_person('mehar', 'javed')\n",
    "print(person)\n",
    "    "
   ]
  },
  {
   "cell_type": "code",
   "execution_count": 43,
   "id": "7b9f7641-5a52-4a26-8955-e15b786e980c",
   "metadata": {},
   "outputs": [
    {
     "name": "stdout",
     "output_type": "stream",
     "text": [
      "{1: 'chickn tikka', 2: 'ppricco', 3: 'fajitta'}\n"
     ]
    }
   ],
   "source": [
    "def ordered_item(t1, t2, t3):\n",
    "    tables={1:'chickn tikka', 2:'ppricco' , 3:'fajitta'}\n",
    "    return tables\n",
    "tables=ordered_item('chickn tikka', 'pprico', 'fajitta')\n",
    "print(tables)"
   ]
  },
  {
   "cell_type": "code",
   "execution_count": 53,
   "id": "e942fb60-29fe-425a-a4f4-3e55399e5efd",
   "metadata": {},
   "outputs": [
    {
     "name": "stdout",
     "output_type": "stream",
     "text": [
      "{1: 'seek kabab', 2: 'vegetarian', 3: 'cheese lover', 4: 'crust stuff'}\n"
     ]
    }
   ],
   "source": [
    "def ordered_pizza(t1, t2, t3, t4):\n",
    "    flavours ={1:'seek kabab', 2:'vegetarian', 3:'cheese lover', 4:'crust stuff'}\n",
    "    return flavours\n",
    "flavours = ordered_pizza('seekh kabab', 'vegetarian', 'cheese lover', 'crust stuff')\n",
    "print(flavours)\n"
   ]
  },
  {
   "cell_type": "code",
   "execution_count": 57,
   "id": "918b4880-c999-43dd-9511-90d07b452937",
   "metadata": {},
   "outputs": [
    {
     "name": "stdout",
     "output_type": "stream",
     "text": [
      "{'first': 'mehar', 'last': 'javed', 'age': 18}\n"
     ]
    }
   ],
   "source": [
    "def person(firstname, lastname, age=None ):\n",
    "    user={'first':firstname, 'last':lastname}\n",
    "    if age:\n",
    "        user['age']=age\n",
    "        return user\n",
    "user=person('mehar', 'javed' , 18)\n",
    "print(user)\n",
    "    "
   ]
  },
  {
   "cell_type": "code",
   "execution_count": 76,
   "id": "5a646098-aab8-43da-a7b8-4c21f50c0989",
   "metadata": {},
   "outputs": [
    {
     "name": "stdout",
     "output_type": "stream",
     "text": [
      "{'nn': 1, 'fav': 'chicken tikka'}\n"
     ]
    }
   ],
   "source": [
    "def pizza(no, flavour, extratoppings=None):\n",
    "    orders={'nn':no, 'fav':flavour}\n",
    "    if extratoppings:\n",
    "            orders['extratoppings']=extratoppings\n",
    "    return orders\n",
    "orders=pizza(1, 'chicken tikka')\n",
    "print(orders)\n"
   ]
  },
  {
   "cell_type": "code",
   "execution_count": 78,
   "id": "f72904c9-5669-45cf-95ec-980f817edadd",
   "metadata": {},
   "outputs": [
    {
     "name": "stdin",
     "output_type": "stream",
     "text": [
      "enter a number 8\n",
      "enter a number 9\n",
      "enter a number 0\n"
     ]
    }
   ],
   "source": [
    "while True:\n",
    "    number=int(input(\"enter a number\"))\n",
    "    if number==0:\n",
    "        break\n",
    "    "
   ]
  },
  {
   "cell_type": "code",
   "execution_count": 92,
   "id": "4d2579dd-107b-4fb5-aef1-3d9d423a0c16",
   "metadata": {},
   "outputs": [
    {
     "name": "stdout",
     "output_type": "stream",
     "text": [
      "hi, Mehar\n",
      "hi, Musa\n",
      "hi, Mustafa\n"
     ]
    }
   ],
   "source": [
    "def names(username):\n",
    "    for name in username:\n",
    "        print(f\"hi, {name.title()}\")\n",
    "username=['mehar','musa', 'mustafa']\n",
    "names(username)"
   ]
  },
  {
   "cell_type": "code",
   "execution_count": null,
   "id": "025e0e92-86f5-4ede-a5b3-cb11c70324af",
   "metadata": {},
   "outputs": [],
   "source": []
  }
 ],
 "metadata": {
  "kernelspec": {
   "display_name": "Python 3 (ipykernel)",
   "language": "python",
   "name": "python3"
  },
  "language_info": {
   "codemirror_mode": {
    "name": "ipython",
    "version": 3
   },
   "file_extension": ".py",
   "mimetype": "text/x-python",
   "name": "python",
   "nbconvert_exporter": "python",
   "pygments_lexer": "ipython3",
   "version": "3.12.4"
  }
 },
 "nbformat": 4,
 "nbformat_minor": 5
}
