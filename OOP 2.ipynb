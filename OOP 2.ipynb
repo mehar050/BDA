{
 "cells": [
  {
   "cell_type": "code",
   "execution_count": 11,
   "id": "60306659-1c8b-4213-8f70-7401c7e7aa59",
   "metadata": {},
   "outputs": [
    {
     "name": "stdin",
     "output_type": "stream",
     "text": [
      "enter your name here:  m\n",
      "enter account no here:  66\n",
      "enter balance here:  700\n",
      "enter total money :  790\n"
     ]
    },
    {
     "name": "stdout",
     "output_type": "stream",
     "text": [
      "you deposited <bound method bank.deposit of <__main__.bank object at 0x000002415DA64D70>> money\n",
      "you withdraw rupees <bound method bank.withdraw of <__main__.bank object at 0x000002415DA64D70>>\n"
     ]
    }
   ],
   "source": [
    "class bank:\n",
    "    def __init__(self, name, account_no, balance,total):\n",
    "        self.name=name\n",
    "        self.account_no=account_no\n",
    "        self.balance=balance\n",
    "        self.total=total\n",
    "    def deposit(self):\n",
    "        deposit=total+balance\n",
    "        print(f\"you deposited {self.deposit} money\")\n",
    "    def withdraw(self):\n",
    "        withdraw=total-balance\n",
    "        print(f\"you withdraw rupees {self.withdraw}\")\n",
    "name=input(\"enter your name here: \")\n",
    "account_no=int(input(\"enter account no here: \"))\n",
    "balance=int(input(\"enter balance here: \"))\n",
    "total=int(input(\"enter total money : \"))\n",
    "a=bank('a', 'b',4, 8)\n",
    "a.deposit()\n",
    "a.withdraw()\n",
    "\n",
    "            \n",
    "               \n",
    "           \n",
    "   "
   ]
  },
  {
   "cell_type": "code",
   "execution_count": 15,
   "id": "d7323cb6-1977-4f93-bfb8-f9ae1c892a3b",
   "metadata": {},
   "outputs": [
    {
     "name": "stdout",
     "output_type": "stream",
     "text": [
      "money is deposited\n"
     ]
    }
   ],
   "source": [
    "total=2000\n",
    "class bank:\n",
    "    def __init__(self, name, acc_no, balance):\n",
    "        self.name=name\n",
    "        self.acc_no=acc_no\n",
    "        self.balance=balance\n",
    "    def withdraw_or_deposit(self):\n",
    "        if total > balance:\n",
    "            print(\"money is deposited\")\n",
    "        elif total < balance:\n",
    "            print(\"money is withdrawn\")\n",
    "        else:\n",
    "            print(\"no amount is deposited or withdrawn\")\n",
    "a=bank('mehar javed', '1223', 5000)\n",
    "a.withdraw_or_deposit()\n",
    "            \n",
    "        "
   ]
  },
  {
   "cell_type": "code",
   "execution_count": 17,
   "id": "d13bab63-1c3e-4f58-9c24-8b379e936886",
   "metadata": {},
   "outputs": [
    {
     "name": "stdout",
     "output_type": "stream",
     "text": [
      "sadia is a manager in emporio\n"
     ]
    }
   ],
   "source": [
    "class employee:\n",
    "    def __init__(self, name, designation):\n",
    "        self.name=name\n",
    "        self.designation=designation\n",
    "    def details(self):\n",
    "        print(f\"{self.name} is a {self.designation} in emporio\")\n",
    "a=employee('sadia', 'manager')\n",
    "a.details()"
   ]
  },
  {
   "cell_type": "code",
   "execution_count": 19,
   "id": "a82d0ab7-38d7-440d-b584-845023140bdc",
   "metadata": {},
   "outputs": [
    {
     "name": "stdout",
     "output_type": "stream",
     "text": [
      "the model of car islatest\n"
     ]
    }
   ],
   "source": [
    "class car:\n",
    "    def __init__(self, make, model, year):\n",
    "        self.make=make\n",
    "        self.model=model\n",
    "        self.year=year\n",
    "    def details(self):\n",
    "        print(f\"the model of car is{self.model}\")\n",
    "m=car('honda', 'latest', 2025)\n",
    "m.details()"
   ]
  },
  {
   "cell_type": "code",
   "execution_count": 25,
   "id": "4b75fc94-f2d9-4cac-b45b-b18cfa9921cd",
   "metadata": {},
   "outputs": [
    {
     "name": "stdout",
     "output_type": "stream",
     "text": [
      "the area of triangle is 24\n"
     ]
    }
   ],
   "source": [
    "class rectangle:\n",
    "    def __init__(self, length, width):\n",
    "        self.length=length\n",
    "        self.width=width\n",
    "    def area(self):\n",
    "        area= self.length * self.width\n",
    "        print(f\"the area of triangle is {area}\")\n",
    "a=rectangle(4, 6)\n",
    "a.area()\n",
    "    "
   ]
  },
  {
   "cell_type": "code",
   "execution_count": 44,
   "id": "2fd41066-b0fa-448b-b60e-aa7e82d470f0",
   "metadata": {},
   "outputs": [
    {
     "name": "stdout",
     "output_type": "stream",
     "text": [
      "78.5\n",
      "12\n"
     ]
    }
   ],
   "source": [
    "class shape:\n",
    "    def __init__(self):\n",
    "        pass\n",
    "class circle(shape):\n",
    "    def __init__(self, radius):\n",
    "        self.radius=radius\n",
    "    def area(self):\n",
    "        area= 3.14 * self.radius **2\n",
    "        print(area)\n",
    "class rectangle(shape):\n",
    "    def __init__(self, length, width):\n",
    "        self.length=length\n",
    "        self.width=width\n",
    "    def area(self):\n",
    "        area= self.length * self.width\n",
    "        print(area)\n",
    "class triangle(shape):\n",
    "    def __init__(self, base, height):\n",
    "        self.base=base\n",
    "        self.height=height\n",
    "    def area(self):\n",
    "        area=1/2* (self.base * self.height)\n",
    "    \n",
    "a=circle(5)\n",
    "a.area()\n",
    "b=rectangle(3,4)\n",
    "b.area()\n",
    "c=triangle(2,3)\n",
    "c.area()\n"
   ]
  },
  {
   "cell_type": "code",
   "execution_count": 48,
   "id": "12b48888-aafb-402c-a225-8154bda8c842",
   "metadata": {},
   "outputs": [
    {
     "name": "stdout",
     "output_type": "stream",
     "text": [
      "dog do bhaoo bhaoo\n"
     ]
    }
   ],
   "source": [
    "class animal:\n",
    "    def __init__(self,name, sound):\n",
    "        self.name=name\n",
    "        self.sound=sound\n",
    "    def info(self):\n",
    "        print(f\"{self.name} makes {self.sound} sound\")\n",
    "class dog(animal):\n",
    "    def __init__(self):\n",
    "        pass\n",
    "    def info(self):\n",
    "        print(\"dog do bhaoo bhaoo\")\n",
    "class cat(animal):\n",
    "    def __init__(self):\n",
    "        pass\n",
    "    def info(self):\n",
    "        print(\"cat do maowwwww\")\n",
    "a=dog()\n",
    "a.info()\n",
    "\n",
    "        \n",
    "    \n",
    "        \n",
    "        "
   ]
  },
  {
   "cell_type": "code",
   "execution_count": 52,
   "id": "141ccd1e-42f5-43d9-bbc5-347372c7895d",
   "metadata": {},
   "outputs": [
    {
     "name": "stdout",
     "output_type": "stream",
     "text": [
      "your current amount:700\n"
     ]
    }
   ],
   "source": [
    "class bank:\n",
    "    def __init__(self):\n",
    "        self.__balance=700\n",
    "    def amount(self):\n",
    "        print(\"your current amount:{}\".format(self.__balance))\n",
    "a=bank()\n",
    "a.amount()"
   ]
  },
  {
   "cell_type": "code",
   "execution_count": null,
   "id": "043e7836-10bd-4b7d-886a-a4076ec933e9",
   "metadata": {},
   "outputs": [],
   "source": []
  },
  {
   "cell_type": "code",
   "execution_count": null,
   "id": "c0be6189-2af0-442d-83f7-b5208e60b223",
   "metadata": {},
   "outputs": [],
   "source": []
  },
  {
   "cell_type": "code",
   "execution_count": null,
   "id": "7f5bcc88-da5f-47b3-80b7-cd3ab3256786",
   "metadata": {},
   "outputs": [],
   "source": []
  },
  {
   "cell_type": "code",
   "execution_count": null,
   "id": "28fc394f-d3a1-4764-b817-a6a6caf25a5c",
   "metadata": {},
   "outputs": [],
   "source": []
  },
  {
   "cell_type": "code",
   "execution_count": null,
   "id": "4c60dc13-95cb-4593-9fc3-b02910c128d6",
   "metadata": {},
   "outputs": [],
   "source": []
  }
 ],
 "metadata": {
  "kernelspec": {
   "display_name": "Python 3 (ipykernel)",
   "language": "python",
   "name": "python3"
  },
  "language_info": {
   "codemirror_mode": {
    "name": "ipython",
    "version": 3
   },
   "file_extension": ".py",
   "mimetype": "text/x-python",
   "name": "python",
   "nbconvert_exporter": "python",
   "pygments_lexer": "ipython3",
   "version": "3.12.4"
  }
 },
 "nbformat": 4,
 "nbformat_minor": 5
}
