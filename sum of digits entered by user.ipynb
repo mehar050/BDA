{
 "cells": [
  {
   "cell_type": "code",
   "execution_count": 7,
   "id": "2b9e9563-713e-4935-863f-f7581e4c31b4",
   "metadata": {},
   "outputs": [
    {
     "name": "stdin",
     "output_type": "stream",
     "text": [
      "enter your number :  987\n"
     ]
    },
    {
     "name": "stdout",
     "output_type": "stream",
     "text": [
      "sum of digits is : 24\n"
     ]
    }
   ],
   "source": [
    "def sum_of_digits():\n",
    "    digit = int(input(\"enter your number : \"))\n",
    "    total = 0\n",
    "    while digit>0:\n",
    "        total += digit % 10\n",
    "        digit //= 10\n",
    "    print(\"sum of digits is :\", total)\n",
    "sum_of_digits()"
   ]
  },
  {
   "cell_type": "code",
   "execution_count": null,
   "id": "8d9800a5-fbc4-43b1-a903-3348fa5494d4",
   "metadata": {},
   "outputs": [],
   "source": []
  }
 ],
 "metadata": {
  "kernelspec": {
   "display_name": "Python 3 (ipykernel)",
   "language": "python",
   "name": "python3"
  },
  "language_info": {
   "codemirror_mode": {
    "name": "ipython",
    "version": 3
   },
   "file_extension": ".py",
   "mimetype": "text/x-python",
   "name": "python",
   "nbconvert_exporter": "python",
   "pygments_lexer": "ipython3",
   "version": "3.12.4"
  }
 },
 "nbformat": 4,
 "nbformat_minor": 5
}
